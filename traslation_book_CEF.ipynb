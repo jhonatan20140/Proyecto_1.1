{
 "cells": [
  {
   "cell_type": "markdown",
   "metadata": {},
   "source": [
    "** Pricing: Willingness to pay CEF\n",
    "\n",
    "Tema : Optimizacion de Tasa\n",
    "Fecha última modificación modelo: 27/02/2021\n",
    "Fecha ultima de codificacion a python: 9/01/2024\n"
   ]
  },
  {
   "cell_type": "code",
   "execution_count": 4,
   "metadata": {},
   "outputs": [],
   "source": [
    "import os\n",
    "import time\n",
    "import pandas as pd\n",
    "import random"
   ]
  },
  {
   "cell_type": "markdown",
   "metadata": {},
   "source": [
    "Definimos parametros para el modelo CEF"
   ]
  },
  {
   "cell_type": "code",
   "execution_count": 5,
   "metadata": {},
   "outputs": [],
   "source": [
    "\n",
    "# Nombre del modelo\n",
    "model = 'Pricing_WTP_CEF'\n",
    "label = 'wtp_cef'\n",
    "campana_aux = 'blaze' #INV o blaze\n",
    "codmes = 202401\n",
    "indicators_reported = ['VAN']\n",
    "indicator_target = 'VAN'"
   ]
  },
  {
   "cell_type": "markdown",
   "metadata": {},
   "source": [
    "Cargamos la carpeta de archivos parquet \"CEF_ Credito_Efectivo_Personas/df_seg_opt_mx_efectividad_202401_blaze\""
   ]
  },
  {
   "cell_type": "code",
   "execution_count": 6,
   "metadata": {},
   "outputs": [],
   "source": [
    "\n",
    "nombre_base_muestra = 'df_seg_opt_mx_efectividad_{}'.format(codmes)\n",
    "df_seg_opt_mx_efectividad = pd.read_parquet('C:/Users/JHONATAN/Documents/BCP  practicas verano/CEF_ Credito_Efectivo_Personas/df_seg_opt_mx_efectividad_202401_blaze') #AGREGAR BLAZE\n"
   ]
  },
  {
   "cell_type": "code",
   "execution_count": 7,
   "metadata": {},
   "outputs": [
    {
     "data": {
      "text/html": [
       "<div>\n",
       "<style scoped>\n",
       "    .dataframe tbody tr th:only-of-type {\n",
       "        vertical-align: middle;\n",
       "    }\n",
       "\n",
       "    .dataframe tbody tr th {\n",
       "        vertical-align: top;\n",
       "    }\n",
       "\n",
       "    .dataframe thead th {\n",
       "        text-align: right;\n",
       "    }\n",
       "</style>\n",
       "<table border=\"1\" class=\"dataframe\">\n",
       "  <thead>\n",
       "    <tr style=\"text-align: right;\">\n",
       "      <th></th>\n",
       "      <th>codmes</th>\n",
       "      <th>seg_wtp_cef</th>\n",
       "      <th>numscoreriesgo</th>\n",
       "      <th>codsubsegmento</th>\n",
       "      <th>codclavecic</th>\n",
       "      <th>llave</th>\n",
       "      <th>mtofinalofertadosol</th>\n",
       "      <th>RNG_PROB</th>\n",
       "      <th>NUM_SEN</th>\n",
       "      <th>iter</th>\n",
       "      <th>tasa_propuesta</th>\n",
       "      <th>prob_adj</th>\n",
       "      <th>prob</th>\n",
       "      <th>VAN</th>\n",
       "      <th>VAN_estimado</th>\n",
       "      <th>MTO_estimado</th>\n",
       "      <th>ec_efect_i</th>\n",
       "      <th>b0</th>\n",
       "      <th>b1</th>\n",
       "      <th>prob_adj_ef</th>\n",
       "    </tr>\n",
       "  </thead>\n",
       "  <tbody>\n",
       "    <tr>\n",
       "      <th>0</th>\n",
       "      <td>202401</td>\n",
       "      <td>1</td>\n",
       "      <td>336</td>\n",
       "      <td>M1N</td>\n",
       "      <td>93457</td>\n",
       "      <td>93457-LD-CRE</td>\n",
       "      <td>9700.0000</td>\n",
       "      <td>2.[Baja]</td>\n",
       "      <td>-2.57</td>\n",
       "      <td>-8</td>\n",
       "      <td>0.3490</td>\n",
       "      <td>0.271264</td>\n",
       "      <td>0.834083</td>\n",
       "      <td>392.023845</td>\n",
       "      <td>106.342050</td>\n",
       "      <td>2631.263118</td>\n",
       "      <td>0.012107</td>\n",
       "      <td>0.020706</td>\n",
       "      <td>-0.024639</td>\n",
       "      <td>0.003284</td>\n",
       "    </tr>\n",
       "    <tr>\n",
       "      <th>1</th>\n",
       "      <td>202401</td>\n",
       "      <td>1</td>\n",
       "      <td>336</td>\n",
       "      <td>M1N</td>\n",
       "      <td>93457</td>\n",
       "      <td>93457-LD-CRE</td>\n",
       "      <td>9700.0000</td>\n",
       "      <td>2.[Baja]</td>\n",
       "      <td>-2.57</td>\n",
       "      <td>0</td>\n",
       "      <td>0.3890</td>\n",
       "      <td>0.251427</td>\n",
       "      <td>0.819364</td>\n",
       "      <td>538.704177</td>\n",
       "      <td>135.444833</td>\n",
       "      <td>2438.842939</td>\n",
       "      <td>0.011121</td>\n",
       "      <td>0.020706</td>\n",
       "      <td>-0.024639</td>\n",
       "      <td>0.002796</td>\n",
       "    </tr>\n",
       "  </tbody>\n",
       "</table>\n",
       "</div>"
      ],
      "text/plain": [
       "   codmes  seg_wtp_cef  numscoreriesgo codsubsegmento  codclavecic  \\\n",
       "0  202401            1             336            M1N        93457   \n",
       "1  202401            1             336            M1N        93457   \n",
       "\n",
       "          llave mtofinalofertadosol  RNG_PROB  NUM_SEN iter tasa_propuesta  \\\n",
       "0  93457-LD-CRE           9700.0000  2.[Baja]    -2.57   -8         0.3490   \n",
       "1  93457-LD-CRE           9700.0000  2.[Baja]    -2.57    0         0.3890   \n",
       "\n",
       "   prob_adj      prob         VAN  VAN_estimado  MTO_estimado  ec_efect_i  \\\n",
       "0  0.271264  0.834083  392.023845    106.342050   2631.263118    0.012107   \n",
       "1  0.251427  0.819364  538.704177    135.444833   2438.842939    0.011121   \n",
       "\n",
       "         b0        b1  prob_adj_ef  \n",
       "0  0.020706 -0.024639     0.003284  \n",
       "1  0.020706 -0.024639     0.002796  "
      ]
     },
     "execution_count": 7,
     "metadata": {},
     "output_type": "execute_result"
    }
   ],
   "source": [
    "df_seg_opt_mx_efectividad.head(2)"
   ]
  },
  {
   "cell_type": "code",
   "execution_count": 8,
   "metadata": {},
   "outputs": [
    {
     "name": "stdout",
     "output_type": "stream",
     "text": [
      "<class 'pandas.core.frame.DataFrame'>\n",
      "RangeIndex: 10836084 entries, 0 to 10836083\n",
      "Data columns (total 20 columns):\n",
      " #   Column               Dtype  \n",
      "---  ------               -----  \n",
      " 0   codmes               int32  \n",
      " 1   seg_wtp_cef          int32  \n",
      " 2   numscoreriesgo       int32  \n",
      " 3   codsubsegmento       object \n",
      " 4   codclavecic          int32  \n",
      " 5   llave                object \n",
      " 6   mtofinalofertadosol  object \n",
      " 7   RNG_PROB             object \n",
      " 8   NUM_SEN              float64\n",
      " 9   iter                 object \n",
      " 10  tasa_propuesta       object \n",
      " 11  prob_adj             float64\n",
      " 12  prob                 float64\n",
      " 13  VAN                  float64\n",
      " 14  VAN_estimado         float64\n",
      " 15  MTO_estimado         float64\n",
      " 16  ec_efect_i           float64\n",
      " 17  b0                   float64\n",
      " 18  b1                   float64\n",
      " 19  prob_adj_ef          float64\n",
      "dtypes: float64(10), int32(4), object(6)\n",
      "memory usage: 1.5+ GB\n"
     ]
    }
   ],
   "source": [
    "df_seg_opt_mx_efectividad.info()"
   ]
  },
  {
   "cell_type": "markdown",
   "metadata": {},
   "source": [
    "Cambio tipologia de variables para habilitar operaciones aritmeticas y condiciones de filtro con pandas para opt_mx_efectividad"
   ]
  },
  {
   "cell_type": "code",
   "execution_count": 34,
   "metadata": {},
   "outputs": [],
   "source": [
    "df_seg_opt_mx_efectividad.columns=df_seg_opt_mx_efectividad.columns.str.upper()\n",
    "\n",
    "\n",
    "#**************************************************************************************\n",
    "df_seg_opt_mx_efectividad['CODMES'] = df_seg_opt_mx_efectividad['CODMES'].astype('int32')\n",
    "df_seg_opt_mx_efectividad['SEG_WTP_CEF'] = df_seg_opt_mx_efectividad['SEG_WTP_CEF'].astype('int32')\n",
    "df_seg_opt_mx_efectividad['NUMSCORERIESGO'] = df_seg_opt_mx_efectividad['NUMSCORERIESGO'].astype('int32')\n",
    "df_seg_opt_mx_efectividad['CODSUBSEGMENTO'] = df_seg_opt_mx_efectividad['CODSUBSEGMENTO'].astype('string')\n",
    "df_seg_opt_mx_efectividad['CODCLAVECIC'] = df_seg_opt_mx_efectividad['CODCLAVECIC'].astype('int32')\n",
    "df_seg_opt_mx_efectividad['LLAVE'] = df_seg_opt_mx_efectividad['LLAVE'].astype('string')\n",
    "df_seg_opt_mx_efectividad['MTOFINALOFERTADOSOL'] = df_seg_opt_mx_efectividad['MTOFINALOFERTADOSOL'].astype('float64')\n",
    "#***************************************\n",
    "#Duda de que tipo de formato se emplea con RNG\n",
    "#*********************************\n",
    "df_seg_opt_mx_efectividad['RNG_PROB'] = df_seg_opt_mx_efectividad['RNG_PROB'].astype('object')\n",
    "df_seg_opt_mx_efectividad['NUM_SEN'] = df_seg_opt_mx_efectividad['NUM_SEN'].astype('float64')\n",
    "df_seg_opt_mx_efectividad['ITER'] = df_seg_opt_mx_efectividad['ITER'].astype('int32')\n",
    "df_seg_opt_mx_efectividad['TASA_PROPUESTA'] = df_seg_opt_mx_efectividad['TASA_PROPUESTA'].astype('float64')\n",
    "df_seg_opt_mx_efectividad['PROB_ADJ'] = df_seg_opt_mx_efectividad['PROB_ADJ'].astype('float64')\n",
    "df_seg_opt_mx_efectividad['PROB'] = df_seg_opt_mx_efectividad['PROB'].astype('float64')\n",
    "df_seg_opt_mx_efectividad['VAN'] = df_seg_opt_mx_efectividad['VAN'].astype('float64')\n",
    "df_seg_opt_mx_efectividad['VAN_ESTIMADO'] = df_seg_opt_mx_efectividad['VAN_ESTIMADO'].astype('float64')\n",
    "df_seg_opt_mx_efectividad['MTO_ESTIMADO'] = df_seg_opt_mx_efectividad['MTO_ESTIMADO'].astype('float64')\n",
    "df_seg_opt_mx_efectividad['EC_EFECT_I'] = df_seg_opt_mx_efectividad['EC_EFECT_I'].astype('float64')\n",
    "df_seg_opt_mx_efectividad['B0'] = df_seg_opt_mx_efectividad['B0'].astype('float64')\n",
    "df_seg_opt_mx_efectividad['B1'] = df_seg_opt_mx_efectividad['B1'].astype('float64')\n",
    "df_seg_opt_mx_efectividad['PROB_ADJ_EF'] = df_seg_opt_mx_efectividad['PROB_ADJ_EF'].astype('float64')\n"
   ]
  },
  {
   "cell_type": "code",
   "execution_count": 35,
   "metadata": {},
   "outputs": [
    {
     "name": "stdout",
     "output_type": "stream",
     "text": [
      "<class 'pandas.core.frame.DataFrame'>\n",
      "RangeIndex: 10836084 entries, 0 to 10836083\n",
      "Data columns (total 20 columns):\n",
      " #   Column               Dtype  \n",
      "---  ------               -----  \n",
      " 0   CODMES               int32  \n",
      " 1   SEG_WTP_CEF          int32  \n",
      " 2   NUMSCORERIESGO       int32  \n",
      " 3   CODSUBSEGMENTO       string \n",
      " 4   CODCLAVECIC          int32  \n",
      " 5   LLAVE                string \n",
      " 6   MTOFINALOFERTADOSOL  float64\n",
      " 7   RNG_PROB             object \n",
      " 8   NUM_SEN              float64\n",
      " 9   ITER                 int32  \n",
      " 10  TASA_PROPUESTA       float64\n",
      " 11  PROB_ADJ             float64\n",
      " 12  PROB                 float64\n",
      " 13  VAN                  float64\n",
      " 14  VAN_ESTIMADO         float64\n",
      " 15  MTO_ESTIMADO         float64\n",
      " 16  EC_EFECT_I           float64\n",
      " 17  B0                   float64\n",
      " 18  B1                   float64\n",
      " 19  PROB_ADJ_EF          float64\n",
      "dtypes: float64(12), int32(5), object(1), string(2)\n",
      "memory usage: 1.4+ GB\n"
     ]
    }
   ],
   "source": [
    "df_seg_opt_mx_efectividad.info()"
   ]
  },
  {
   "cell_type": "markdown",
   "metadata": {},
   "source": [
    "CAPS DE ITERACIONES "
   ]
  },
  {
   "cell_type": "code",
   "execution_count": 38,
   "metadata": {},
   "outputs": [],
   "source": [
    "#Trabajamos con un nuevo nombre de dataframe df_seg_opt\n",
    "#********************************************************\n",
    "df_seg_opt= df_seg_opt_mx_efectividad\n",
    "\n",
    "#Indicadores estimados\n",
    "\n",
    "for ind in indicators_reported:\n",
    "  df_seg_opt['{}_estimado'.format(ind)] = df_seg_opt[ind] * df_seg_opt['PROB_ADJ_EF']\n",
    "\n",
    "# Para MTO ESTIMADO\n",
    "df_seg_opt['MTO_ESTIMADO']=df_seg_opt['MTOFINALOFERTADOSOL']* df_seg_opt['PROB_ADJ_EF']\n",
    "\n"
   ]
  },
  {
   "cell_type": "code",
   "execution_count": 40,
   "metadata": {},
   "outputs": [
    {
     "data": {
      "text/html": [
       "<div>\n",
       "<style scoped>\n",
       "    .dataframe tbody tr th:only-of-type {\n",
       "        vertical-align: middle;\n",
       "    }\n",
       "\n",
       "    .dataframe tbody tr th {\n",
       "        vertical-align: top;\n",
       "    }\n",
       "\n",
       "    .dataframe thead th {\n",
       "        text-align: right;\n",
       "    }\n",
       "</style>\n",
       "<table border=\"1\" class=\"dataframe\">\n",
       "  <thead>\n",
       "    <tr style=\"text-align: right;\">\n",
       "      <th></th>\n",
       "      <th>CODMES</th>\n",
       "      <th>SEG_WTP_CEF</th>\n",
       "      <th>NUMSCORERIESGO</th>\n",
       "      <th>CODSUBSEGMENTO</th>\n",
       "      <th>CODCLAVECIC</th>\n",
       "      <th>LLAVE</th>\n",
       "      <th>MTOFINALOFERTADOSOL</th>\n",
       "      <th>RNG_PROB</th>\n",
       "      <th>NUM_SEN</th>\n",
       "      <th>ITER</th>\n",
       "      <th>TASA_PROPUESTA</th>\n",
       "      <th>PROB_ADJ</th>\n",
       "      <th>PROB</th>\n",
       "      <th>VAN</th>\n",
       "      <th>VAN_ESTIMADO</th>\n",
       "      <th>MTO_ESTIMADO</th>\n",
       "      <th>EC_EFECT_I</th>\n",
       "      <th>B0</th>\n",
       "      <th>B1</th>\n",
       "      <th>PROB_ADJ_EF</th>\n",
       "      <th>VAN_estimado</th>\n",
       "    </tr>\n",
       "  </thead>\n",
       "  <tbody>\n",
       "    <tr>\n",
       "      <th>0</th>\n",
       "      <td>202401</td>\n",
       "      <td>1</td>\n",
       "      <td>336</td>\n",
       "      <td>M1N</td>\n",
       "      <td>93457</td>\n",
       "      <td>93457-LD-CRE</td>\n",
       "      <td>9700.0</td>\n",
       "      <td>2.[Baja]</td>\n",
       "      <td>-2.57</td>\n",
       "      <td>-8</td>\n",
       "      <td>0.349</td>\n",
       "      <td>0.271264</td>\n",
       "      <td>0.834083</td>\n",
       "      <td>392.023845</td>\n",
       "      <td>106.342050</td>\n",
       "      <td>31.856545</td>\n",
       "      <td>0.012107</td>\n",
       "      <td>0.020706</td>\n",
       "      <td>-0.024639</td>\n",
       "      <td>0.003284</td>\n",
       "      <td>1.287477</td>\n",
       "    </tr>\n",
       "    <tr>\n",
       "      <th>1</th>\n",
       "      <td>202401</td>\n",
       "      <td>1</td>\n",
       "      <td>336</td>\n",
       "      <td>M1N</td>\n",
       "      <td>93457</td>\n",
       "      <td>93457-LD-CRE</td>\n",
       "      <td>9700.0</td>\n",
       "      <td>2.[Baja]</td>\n",
       "      <td>-2.57</td>\n",
       "      <td>0</td>\n",
       "      <td>0.389</td>\n",
       "      <td>0.251427</td>\n",
       "      <td>0.819364</td>\n",
       "      <td>538.704177</td>\n",
       "      <td>135.444833</td>\n",
       "      <td>27.123263</td>\n",
       "      <td>0.011121</td>\n",
       "      <td>0.020706</td>\n",
       "      <td>-0.024639</td>\n",
       "      <td>0.002796</td>\n",
       "      <td>1.506331</td>\n",
       "    </tr>\n",
       "  </tbody>\n",
       "</table>\n",
       "</div>"
      ],
      "text/plain": [
       "   CODMES  SEG_WTP_CEF  NUMSCORERIESGO CODSUBSEGMENTO  CODCLAVECIC  \\\n",
       "0  202401            1             336            M1N        93457   \n",
       "1  202401            1             336            M1N        93457   \n",
       "\n",
       "          LLAVE  MTOFINALOFERTADOSOL  RNG_PROB  NUM_SEN  ITER  TASA_PROPUESTA  \\\n",
       "0  93457-LD-CRE               9700.0  2.[Baja]    -2.57    -8           0.349   \n",
       "1  93457-LD-CRE               9700.0  2.[Baja]    -2.57     0           0.389   \n",
       "\n",
       "   PROB_ADJ      PROB         VAN  VAN_ESTIMADO  MTO_ESTIMADO  EC_EFECT_I  \\\n",
       "0  0.271264  0.834083  392.023845    106.342050     31.856545    0.012107   \n",
       "1  0.251427  0.819364  538.704177    135.444833     27.123263    0.011121   \n",
       "\n",
       "         B0        B1  PROB_ADJ_EF  VAN_estimado  \n",
       "0  0.020706 -0.024639     0.003284      1.287477  \n",
       "1  0.020706 -0.024639     0.002796      1.506331  "
      ]
     },
     "execution_count": 40,
     "metadata": {},
     "output_type": "execute_result"
    }
   ],
   "source": [
    "#visualizacion de tabla\n",
    "pd.set_option('display.max_columns',None)\n",
    "df_seg_opt.head(2)"
   ]
  },
  {
   "cell_type": "markdown",
   "metadata": {},
   "source": [
    "LIMITANDO LAS ITERACIONES"
   ]
  },
  {
   "cell_type": "code",
   "execution_count": 43,
   "metadata": {},
   "outputs": [],
   "source": [
    "\n",
    "df_seg_opt_caps = df_seg_opt[(((df_seg_opt['SEG_WTP_CEF']==1)&(df_seg_opt['ITER']>=-8)&(df_seg_opt['ITER']<=8))|\\\n",
    "                                   ((df_seg_opt['SEG_WTP_CEF']==2)&(df_seg_opt['ITER']>=-7)&(df_seg_opt['ITER']<=7))|\\\n",
    "                                   ((df_seg_opt['SEG_WTP_CEF']==3)&(df_seg_opt['ITER']>=-6)&(df_seg_opt['ITER']<=6))|\\\n",
    "                                   ((df_seg_opt['SEG_WTP_CEF']==4)&(df_seg_opt['ITER']>=-5)&(df_seg_opt['ITER']<=5))|\\\n",
    "                                   ((df_seg_opt['SEG_WTP_CEF']==5)&(df_seg_opt['ITER']>=-4)&(df_seg_opt['ITER']<=4))|\\\n",
    "                                   ((df_seg_opt['SEG_WTP_CEF']==6)&(df_seg_opt['ITER']>=-3)&(df_seg_opt['ITER']<=3))|\\\n",
    "                                   ((df_seg_opt['SEG_WTP_CEF']==7)&(df_seg_opt['ITER']>=-2)&(df_seg_opt['ITER']<=2)) \\\n",
    "                                  )]\n"
   ]
  },
  {
   "cell_type": "code",
   "execution_count": 47,
   "metadata": {},
   "outputs": [
    {
     "data": {
      "text/html": [
       "<div>\n",
       "<style scoped>\n",
       "    .dataframe tbody tr th:only-of-type {\n",
       "        vertical-align: middle;\n",
       "    }\n",
       "\n",
       "    .dataframe tbody tr th {\n",
       "        vertical-align: top;\n",
       "    }\n",
       "\n",
       "    .dataframe thead th {\n",
       "        text-align: right;\n",
       "    }\n",
       "</style>\n",
       "<table border=\"1\" class=\"dataframe\">\n",
       "  <thead>\n",
       "    <tr style=\"text-align: right;\">\n",
       "      <th></th>\n",
       "      <th>CODMES</th>\n",
       "      <th>SEG_WTP_CEF</th>\n",
       "      <th>NUMSCORERIESGO</th>\n",
       "      <th>CODSUBSEGMENTO</th>\n",
       "      <th>CODCLAVECIC</th>\n",
       "      <th>LLAVE</th>\n",
       "      <th>MTOFINALOFERTADOSOL</th>\n",
       "      <th>RNG_PROB</th>\n",
       "      <th>NUM_SEN</th>\n",
       "      <th>ITER</th>\n",
       "      <th>TASA_PROPUESTA</th>\n",
       "      <th>PROB_ADJ</th>\n",
       "      <th>PROB</th>\n",
       "      <th>VAN</th>\n",
       "      <th>VAN_ESTIMADO</th>\n",
       "      <th>MTO_ESTIMADO</th>\n",
       "      <th>EC_EFECT_I</th>\n",
       "      <th>B0</th>\n",
       "      <th>B1</th>\n",
       "      <th>PROB_ADJ_EF</th>\n",
       "      <th>VAN_ESTIMADO</th>\n",
       "    </tr>\n",
       "  </thead>\n",
       "  <tbody>\n",
       "    <tr>\n",
       "      <th>0</th>\n",
       "      <td>202401</td>\n",
       "      <td>1</td>\n",
       "      <td>336</td>\n",
       "      <td>M1N</td>\n",
       "      <td>93457</td>\n",
       "      <td>93457-LD-CRE</td>\n",
       "      <td>9700.0</td>\n",
       "      <td>2.[Baja]</td>\n",
       "      <td>-2.57</td>\n",
       "      <td>-8</td>\n",
       "      <td>0.349</td>\n",
       "      <td>0.271264</td>\n",
       "      <td>0.834083</td>\n",
       "      <td>392.023845</td>\n",
       "      <td>106.342050</td>\n",
       "      <td>31.856545</td>\n",
       "      <td>0.012107</td>\n",
       "      <td>0.020706</td>\n",
       "      <td>-0.024639</td>\n",
       "      <td>0.003284</td>\n",
       "      <td>1.287477</td>\n",
       "    </tr>\n",
       "    <tr>\n",
       "      <th>1</th>\n",
       "      <td>202401</td>\n",
       "      <td>1</td>\n",
       "      <td>336</td>\n",
       "      <td>M1N</td>\n",
       "      <td>93457</td>\n",
       "      <td>93457-LD-CRE</td>\n",
       "      <td>9700.0</td>\n",
       "      <td>2.[Baja]</td>\n",
       "      <td>-2.57</td>\n",
       "      <td>0</td>\n",
       "      <td>0.389</td>\n",
       "      <td>0.251427</td>\n",
       "      <td>0.819364</td>\n",
       "      <td>538.704177</td>\n",
       "      <td>135.444833</td>\n",
       "      <td>27.123263</td>\n",
       "      <td>0.011121</td>\n",
       "      <td>0.020706</td>\n",
       "      <td>-0.024639</td>\n",
       "      <td>0.002796</td>\n",
       "      <td>1.506331</td>\n",
       "    </tr>\n",
       "  </tbody>\n",
       "</table>\n",
       "</div>"
      ],
      "text/plain": [
       "   CODMES  SEG_WTP_CEF  NUMSCORERIESGO CODSUBSEGMENTO  CODCLAVECIC  \\\n",
       "0  202401            1             336            M1N        93457   \n",
       "1  202401            1             336            M1N        93457   \n",
       "\n",
       "          LLAVE  MTOFINALOFERTADOSOL  RNG_PROB  NUM_SEN  ITER  TASA_PROPUESTA  \\\n",
       "0  93457-LD-CRE               9700.0  2.[Baja]    -2.57    -8           0.349   \n",
       "1  93457-LD-CRE               9700.0  2.[Baja]    -2.57     0           0.389   \n",
       "\n",
       "   PROB_ADJ      PROB         VAN  VAN_ESTIMADO  MTO_ESTIMADO  EC_EFECT_I  \\\n",
       "0  0.271264  0.834083  392.023845    106.342050     31.856545    0.012107   \n",
       "1  0.251427  0.819364  538.704177    135.444833     27.123263    0.011121   \n",
       "\n",
       "         B0        B1  PROB_ADJ_EF  VAN_ESTIMADO  \n",
       "0  0.020706 -0.024639     0.003284      1.287477  \n",
       "1  0.020706 -0.024639     0.002796      1.506331  "
      ]
     },
     "execution_count": 47,
     "metadata": {},
     "output_type": "execute_result"
    }
   ],
   "source": [
    "#Formato y Visualizacion de nuevo dataframe filtrado df_seg_opt_caps \n",
    "df_seg_opt_caps.columns=df_seg_opt_caps.columns.str.upper()\n",
    "df_seg_opt_caps.head(2)"
   ]
  },
  {
   "cell_type": "markdown",
   "metadata": {},
   "source": [
    "Cargamos el dataset de Tasas de producto blaze"
   ]
  },
  {
   "cell_type": "code",
   "execution_count": 53,
   "metadata": {},
   "outputs": [
    {
     "data": {
      "text/html": [
       "<div>\n",
       "<style scoped>\n",
       "    .dataframe tbody tr th:only-of-type {\n",
       "        vertical-align: middle;\n",
       "    }\n",
       "\n",
       "    .dataframe tbody tr th {\n",
       "        vertical-align: top;\n",
       "    }\n",
       "\n",
       "    .dataframe thead th {\n",
       "        text-align: right;\n",
       "    }\n",
       "</style>\n",
       "<table border=\"1\" class=\"dataframe\">\n",
       "  <thead>\n",
       "    <tr style=\"text-align: right;\">\n",
       "      <th></th>\n",
       "      <th>CODCLAVECIC</th>\n",
       "      <th>CAMPANA</th>\n",
       "      <th>TasaPropuesta</th>\n",
       "      <th>LLAVE</th>\n",
       "      <th>FLG_SUBSEGMENTO_CONSUMO</th>\n",
       "      <th>DESEMBOLSO</th>\n",
       "      <th>PLAZO</th>\n",
       "      <th>SCORE</th>\n",
       "      <th>MTOMEJORINGRESOAJUSTADOSOL</th>\n",
       "      <th>FLG_INDICATOR_TARGET</th>\n",
       "      <th>INDICATOR_TARGET</th>\n",
       "      <th>TIPCAMPANA_ORI</th>\n",
       "      <th>TIPO_INICIATIVA</th>\n",
       "    </tr>\n",
       "  </thead>\n",
       "  <tbody>\n",
       "    <tr>\n",
       "      <th>0</th>\n",
       "      <td>1000005</td>\n",
       "      <td>LD</td>\n",
       "      <td>0.329</td>\n",
       "      <td>1000005-LD-CRE</td>\n",
       "      <td>ARMANDO</td>\n",
       "      <td>17145</td>\n",
       "      <td>24</td>\n",
       "      <td>286.0</td>\n",
       "      <td>3204.0</td>\n",
       "      <td>LD-ARMANDO-ING_5000-SCR_325</td>\n",
       "      <td>0.1078</td>\n",
       "      <td>LD</td>\n",
       "      <td>NO_INICIATIVA</td>\n",
       "    </tr>\n",
       "    <tr>\n",
       "      <th>1</th>\n",
       "      <td>10000051</td>\n",
       "      <td>LD</td>\n",
       "      <td>0.209</td>\n",
       "      <td>10000051-LD-CRE</td>\n",
       "      <td>ARMANDO</td>\n",
       "      <td>63874</td>\n",
       "      <td>60</td>\n",
       "      <td>445.0</td>\n",
       "      <td>4742.0</td>\n",
       "      <td>LD-ARMANDO-ING_5000-SCR_450</td>\n",
       "      <td>0.0656</td>\n",
       "      <td>LD</td>\n",
       "      <td>INICIATIVA_BEX_ARMANDO</td>\n",
       "    </tr>\n",
       "  </tbody>\n",
       "</table>\n",
       "</div>"
      ],
      "text/plain": [
       "   CODCLAVECIC CAMPANA  TasaPropuesta            LLAVE  \\\n",
       "0      1000005      LD          0.329   1000005-LD-CRE   \n",
       "1     10000051      LD          0.209  10000051-LD-CRE   \n",
       "\n",
       "  FLG_SUBSEGMENTO_CONSUMO  DESEMBOLSO  PLAZO  SCORE  \\\n",
       "0                 ARMANDO       17145     24  286.0   \n",
       "1                 ARMANDO       63874     60  445.0   \n",
       "\n",
       "   MTOMEJORINGRESOAJUSTADOSOL         FLG_INDICATOR_TARGET  INDICATOR_TARGET  \\\n",
       "0                      3204.0  LD-ARMANDO-ING_5000-SCR_325            0.1078   \n",
       "1                      4742.0  LD-ARMANDO-ING_5000-SCR_450            0.0656   \n",
       "\n",
       "  TIPCAMPANA_ORI         TIPO_INICIATIVA  \n",
       "0             LD           NO_INICIATIVA  \n",
       "1             LD  INICIATIVA_BEX_ARMANDO  "
      ]
     },
     "execution_count": 53,
     "metadata": {},
     "output_type": "execute_result"
    }
   ],
   "source": [
    "# EXTRAE LOS CODCLAVECIC Y FLG_SUBSEGMENTOS\n",
    "#nombre_base_muestra = 'TasasProducto_{}',format(codmes)\n",
    "\n",
    "df_subsegmento = pd.read_csv('C:/Users/JHONATAN/Documents/BCP  practicas verano/CEF_ Credito_Efectivo_Personas/TasasProducto_202401_blaze.csv',sep=\",\") # AGREGA BLAZE\n",
    "df_subsegmento.head(2)\n"
   ]
  },
  {
   "cell_type": "code",
   "execution_count": 51,
   "metadata": {},
   "outputs": [
    {
     "name": "stdout",
     "output_type": "stream",
     "text": [
      "<class 'pandas.core.frame.DataFrame'>\n",
      "RangeIndex: 778385 entries, 0 to 778384\n",
      "Data columns (total 13 columns):\n",
      " #   Column                      Non-Null Count   Dtype  \n",
      "---  ------                      --------------   -----  \n",
      " 0   CODCLAVECIC                 778385 non-null  int64  \n",
      " 1   CAMPANA                     778385 non-null  object \n",
      " 2   TasaPropuesta               778385 non-null  float64\n",
      " 3   LLAVE                       778385 non-null  object \n",
      " 4   FLG_SUBSEGMENTO_CONSUMO     778385 non-null  object \n",
      " 5   DESEMBOLSO                  778385 non-null  int64  \n",
      " 6   PLAZO                       778385 non-null  int64  \n",
      " 7   SCORE                       778385 non-null  float64\n",
      " 8   MTOMEJORINGRESOAJUSTADOSOL  778385 non-null  float64\n",
      " 9   FLG_INDICATOR_TARGET        778385 non-null  object \n",
      " 10  INDICATOR_TARGET            778385 non-null  float64\n",
      " 11  TIPCAMPANA_ORI              778385 non-null  object \n",
      " 12  TIPO_INICIATIVA             778385 non-null  object \n",
      "dtypes: float64(4), int64(3), object(6)\n",
      "memory usage: 77.2+ MB\n"
     ]
    }
   ],
   "source": [
    "\n",
    "df_subsegmento.info()"
   ]
  },
  {
   "cell_type": "markdown",
   "metadata": {},
   "source": [
    "Cambio de tipologia de variables para las operaciones de union y aritmeticas"
   ]
  },
  {
   "cell_type": "code",
   "execution_count": 70,
   "metadata": {},
   "outputs": [],
   "source": [
    "df_subsegmento['CODCLAVECIC'] = df_subsegmento['CODCLAVECIC'].astype('int64')\n",
    "df_subsegmento['CAMPANA'] = df_subsegmento['CAMPANA'].astype('string')\n",
    "df_subsegmento['TasaPropuesta'] = df_subsegmento['TasaPropuesta'].astype('float64')\n",
    "df_subsegmento['LLAVE'] = df_subsegmento['LLAVE'].astype('string')\n",
    "df_subsegmento['FLG_SUBSEGMENTO_CONSUMO'] = df_subsegmento['FLG_SUBSEGMENTO_CONSUMO'].astype('string')\n",
    "df_subsegmento['DESEMBOLSO'] = df_subsegmento['DESEMBOLSO'].astype('int64')\n",
    "df_subsegmento['PLAZO'] = df_subsegmento['PLAZO'].astype('int64')\n",
    "df_subsegmento['SCORE'] = df_subsegmento['SCORE'].astype('float64')\n",
    "df_subsegmento['MTOMEJORINGRESOAJUSTADOSOL'] = df_subsegmento['MTOMEJORINGRESOAJUSTADOSOL'].astype('float64')\n",
    "df_subsegmento['FLG_INDICATOR_TARGET'] = df_subsegmento['FLG_INDICATOR_TARGET'].astype('string')\n",
    "df_subsegmento['INDICATOR_TARGET'] = df_subsegmento['INDICATOR_TARGET'].astype('float64')\n",
    "df_subsegmento['TIPCAMPANA_ORI'] = df_subsegmento['TIPCAMPANA_ORI'].astype('string')\n",
    "df_subsegmento['TIPO_INICIATIVA'] = df_subsegmento['TIPO_INICIATIVA'].astype('string')\n"
   ]
  },
  {
   "cell_type": "code",
   "execution_count": 71,
   "metadata": {},
   "outputs": [
    {
     "name": "stdout",
     "output_type": "stream",
     "text": [
      "<class 'pandas.core.frame.DataFrame'>\n",
      "RangeIndex: 778385 entries, 0 to 778384\n",
      "Data columns (total 13 columns):\n",
      " #   Column                      Non-Null Count   Dtype  \n",
      "---  ------                      --------------   -----  \n",
      " 0   CODCLAVECIC                 778385 non-null  int64  \n",
      " 1   CAMPANA                     778385 non-null  string \n",
      " 2   TasaPropuesta               778385 non-null  float64\n",
      " 3   LLAVE                       778385 non-null  string \n",
      " 4   FLG_SUBSEGMENTO_CONSUMO     778385 non-null  string \n",
      " 5   DESEMBOLSO                  778385 non-null  int64  \n",
      " 6   PLAZO                       778385 non-null  int64  \n",
      " 7   SCORE                       778385 non-null  float64\n",
      " 8   MTOMEJORINGRESOAJUSTADOSOL  778385 non-null  float64\n",
      " 9   FLG_INDICATOR_TARGET        778385 non-null  string \n",
      " 10  INDICATOR_TARGET            778385 non-null  float64\n",
      " 11  TIPCAMPANA_ORI              778385 non-null  string \n",
      " 12  TIPO_INICIATIVA             778385 non-null  string \n",
      "dtypes: float64(4), int64(3), string(6)\n",
      "memory usage: 77.2 MB\n"
     ]
    }
   ],
   "source": [
    "df_subsegmento.info()"
   ]
  },
  {
   "cell_type": "code",
   "execution_count": 76,
   "metadata": {},
   "outputs": [],
   "source": [
    "df_seg_opt_caps=pd.merge(df_seg_opt_caps, df_subsegmento[['LLAVE', 'FLG_SUBSEGMENTO_CONSUMO']], on= 'LLAVE', how='left')"
   ]
  },
  {
   "cell_type": "code",
   "execution_count": 82,
   "metadata": {},
   "outputs": [
    {
     "data": {
      "text/plain": [
       "(5627968, 22)"
      ]
     },
     "execution_count": 82,
     "metadata": {},
     "output_type": "execute_result"
    }
   ],
   "source": [
    "#Tamaño post union merge\n",
    "df_seg_opt_caps.shape"
   ]
  },
  {
   "cell_type": "code",
   "execution_count": 84,
   "metadata": {},
   "outputs": [
    {
     "data": {
      "text/html": [
       "<div>\n",
       "<style scoped>\n",
       "    .dataframe tbody tr th:only-of-type {\n",
       "        vertical-align: middle;\n",
       "    }\n",
       "\n",
       "    .dataframe tbody tr th {\n",
       "        vertical-align: top;\n",
       "    }\n",
       "\n",
       "    .dataframe thead th {\n",
       "        text-align: right;\n",
       "    }\n",
       "</style>\n",
       "<table border=\"1\" class=\"dataframe\">\n",
       "  <thead>\n",
       "    <tr style=\"text-align: right;\">\n",
       "      <th></th>\n",
       "      <th>CODMES</th>\n",
       "      <th>SEG_WTP_CEF</th>\n",
       "      <th>NUMSCORERIESGO</th>\n",
       "      <th>CODSUBSEGMENTO</th>\n",
       "      <th>CODCLAVECIC</th>\n",
       "      <th>LLAVE</th>\n",
       "      <th>MTOFINALOFERTADOSOL</th>\n",
       "      <th>RNG_PROB</th>\n",
       "      <th>NUM_SEN</th>\n",
       "      <th>ITER</th>\n",
       "      <th>TASA_PROPUESTA</th>\n",
       "      <th>PROB_ADJ</th>\n",
       "      <th>PROB</th>\n",
       "      <th>VAN</th>\n",
       "      <th>VAN_ESTIMADO</th>\n",
       "      <th>MTO_ESTIMADO</th>\n",
       "      <th>EC_EFECT_I</th>\n",
       "      <th>B0</th>\n",
       "      <th>B1</th>\n",
       "      <th>PROB_ADJ_EF</th>\n",
       "      <th>VAN_ESTIMADO</th>\n",
       "      <th>FLG_SUBSEGMENTO_CONSUMO</th>\n",
       "    </tr>\n",
       "  </thead>\n",
       "  <tbody>\n",
       "    <tr>\n",
       "      <th>0</th>\n",
       "      <td>202401</td>\n",
       "      <td>1</td>\n",
       "      <td>336</td>\n",
       "      <td>M1N</td>\n",
       "      <td>93457</td>\n",
       "      <td>93457-LD-CRE</td>\n",
       "      <td>9700.0</td>\n",
       "      <td>2.[Baja]</td>\n",
       "      <td>-2.57</td>\n",
       "      <td>-8</td>\n",
       "      <td>0.349</td>\n",
       "      <td>0.271264</td>\n",
       "      <td>0.834083</td>\n",
       "      <td>392.023845</td>\n",
       "      <td>106.342050</td>\n",
       "      <td>31.856545</td>\n",
       "      <td>0.012107</td>\n",
       "      <td>0.020706</td>\n",
       "      <td>-0.024639</td>\n",
       "      <td>0.003284</td>\n",
       "      <td>1.287477</td>\n",
       "      <td>ARMANDO</td>\n",
       "    </tr>\n",
       "    <tr>\n",
       "      <th>1</th>\n",
       "      <td>202401</td>\n",
       "      <td>1</td>\n",
       "      <td>336</td>\n",
       "      <td>M1N</td>\n",
       "      <td>93457</td>\n",
       "      <td>93457-LD-CRE</td>\n",
       "      <td>9700.0</td>\n",
       "      <td>2.[Baja]</td>\n",
       "      <td>-2.57</td>\n",
       "      <td>0</td>\n",
       "      <td>0.389</td>\n",
       "      <td>0.251427</td>\n",
       "      <td>0.819364</td>\n",
       "      <td>538.704177</td>\n",
       "      <td>135.444833</td>\n",
       "      <td>27.123263</td>\n",
       "      <td>0.011121</td>\n",
       "      <td>0.020706</td>\n",
       "      <td>-0.024639</td>\n",
       "      <td>0.002796</td>\n",
       "      <td>1.506331</td>\n",
       "      <td>ARMANDO</td>\n",
       "    </tr>\n",
       "  </tbody>\n",
       "</table>\n",
       "</div>"
      ],
      "text/plain": [
       "   CODMES  SEG_WTP_CEF  NUMSCORERIESGO CODSUBSEGMENTO  CODCLAVECIC  \\\n",
       "0  202401            1             336            M1N        93457   \n",
       "1  202401            1             336            M1N        93457   \n",
       "\n",
       "          LLAVE  MTOFINALOFERTADOSOL  RNG_PROB  NUM_SEN  ITER  TASA_PROPUESTA  \\\n",
       "0  93457-LD-CRE               9700.0  2.[Baja]    -2.57    -8           0.349   \n",
       "1  93457-LD-CRE               9700.0  2.[Baja]    -2.57     0           0.389   \n",
       "\n",
       "   PROB_ADJ      PROB         VAN  VAN_ESTIMADO  MTO_ESTIMADO  EC_EFECT_I  \\\n",
       "0  0.271264  0.834083  392.023845    106.342050     31.856545    0.012107   \n",
       "1  0.251427  0.819364  538.704177    135.444833     27.123263    0.011121   \n",
       "\n",
       "         B0        B1  PROB_ADJ_EF  VAN_ESTIMADO FLG_SUBSEGMENTO_CONSUMO  \n",
       "0  0.020706 -0.024639     0.003284      1.287477                 ARMANDO  \n",
       "1  0.020706 -0.024639     0.002796      1.506331                 ARMANDO  "
      ]
     },
     "execution_count": 84,
     "metadata": {},
     "output_type": "execute_result"
    }
   ],
   "source": [
    "df_seg_opt_caps.head(2)"
   ]
  },
  {
   "cell_type": "markdown",
   "metadata": {},
   "source": [
    "Definicion de las condiciones"
   ]
  },
  {
   "cell_type": "code",
   "execution_count": 79,
   "metadata": {},
   "outputs": [],
   "source": [
    "cond1 = (df_seg_opt_caps['TASA_PROPUESTA'] < 0.145) & (df_seg_opt_caps['FLG_SUBSEGMENTO_CONSUMO'].isin(['ARMANDO','NO CLIENTE']))\n",
    "cond2 = (df_seg_opt_caps['TASA_PROPUESTA'] < 0.195) & (df_seg_opt_caps['FLG_SUBSEGMENTO_CONSUMO'].isin(['BEATRIZ']))\n",
    "cond3 = (df_seg_opt_caps['TASA_PROPUESTA'] < 0.235) & (df_seg_opt_caps['FLG_SUBSEGMENTO_CONSUMO'].isin(['CARLOS']))\n",
    "cond4 = (df_seg_opt_caps['TASA_PROPUESTA'] < 0.135) & (df_seg_opt_caps['FLG_SUBSEGMENTO_CONSUMO'].isin(['BEX']))\n",
    "cond5 = (df_seg_opt_caps['TASA_PROPUESTA'] < 0.125) & (df_seg_opt_caps['FLG_SUBSEGMENTO_CONSUMO'].isin(['ENALTA']))\n",
    "\n",
    "cond7 = (df_seg_opt_caps['TASA_PROPUESTA'] > 0.959) & (df_seg_opt_caps['FLG_SUBSEGMENTO_CONSUMO'].isin(['ARMANDO', 'BEATRIZ', 'CARLOS', 'NO CLIENTE']))\n",
    "cond8 = (df_seg_opt_caps['TASA_PROPUESTA'] > 0.429) & (df_seg_opt_caps['FLG_SUBSEGMENTO_CONSUMO'].isin(['BEX']))\n",
    "cond9 = (df_seg_opt_caps['TASA_PROPUESTA'] > 0.199) & (df_seg_opt_caps['FLG_SUBSEGMENTO_CONSUMO'].isin(['ENALTA']))\n",
    "\n"
   ]
  },
  {
   "cell_type": "code",
   "execution_count": 80,
   "metadata": {},
   "outputs": [],
   "source": [
    "#borrando los que no cumplen las condiciones\n",
    "df_seg_opt_caps_f = df_seg_opt_caps[~(cond1 | cond2 | cond3 | cond4 | cond5 | cond7 | cond8 | cond9)]\n",
    "\n",
    "# Guardar (no para python)\n",
    "#nombre_base_muestra = '1f_dta_iter_opt_caps_{}'.format(campana_aux)\n",
    "#df_seg_opt_caps_f.write.format('parquet').mode('overwrite').save(f\"{path_hdfs_sandbox_data_root}/out/5_Optimizacion/{nombre_base_muestra}\") #AGREGAR BLAZE\n"
   ]
  },
  {
   "cell_type": "code",
   "execution_count": 85,
   "metadata": {},
   "outputs": [
    {
     "data": {
      "text/plain": [
       "(5616535, 22)"
      ]
     },
     "execution_count": 85,
     "metadata": {},
     "output_type": "execute_result"
    }
   ],
   "source": [
    "#nuevo tamaño filtrado por condiciones\n",
    "df_seg_opt_caps_f.shape"
   ]
  },
  {
   "cell_type": "markdown",
   "metadata": {},
   "source": [
    "Datos agrupados a la Tasa Lead"
   ]
  },
  {
   "cell_type": "code",
   "execution_count": 89,
   "metadata": {},
   "outputs": [],
   "source": [
    "\n",
    "df_res_opt=df_seg_opt[df_seg_opt['ITER']==0]\n"
   ]
  },
  {
   "cell_type": "code",
   "execution_count": 93,
   "metadata": {},
   "outputs": [
    {
     "name": "stdout",
     "output_type": "stream",
     "text": [
      "<class 'pandas.core.frame.DataFrame'>\n",
      "Index: 516004 entries, 1 to 10836078\n",
      "Data columns (total 21 columns):\n",
      " #   Column               Non-Null Count   Dtype  \n",
      "---  ------               --------------   -----  \n",
      " 0   CODMES               516004 non-null  int32  \n",
      " 1   SEG_WTP_CEF          516004 non-null  int32  \n",
      " 2   NUMSCORERIESGO       516004 non-null  int32  \n",
      " 3   CODSUBSEGMENTO       516004 non-null  string \n",
      " 4   CODCLAVECIC          516004 non-null  int32  \n",
      " 5   LLAVE                516004 non-null  string \n",
      " 6   MTOFINALOFERTADOSOL  516004 non-null  float64\n",
      " 7   RNG_PROB             516002 non-null  object \n",
      " 8   NUM_SEN              516004 non-null  float64\n",
      " 9   ITER                 516004 non-null  int32  \n",
      " 10  TASA_PROPUESTA       516004 non-null  float64\n",
      " 11  PROB_ADJ             516004 non-null  float64\n",
      " 12  PROB                 516004 non-null  float64\n",
      " 13  VAN                  516004 non-null  float64\n",
      " 14  VAN_ESTIMADO         516004 non-null  float64\n",
      " 15  MTO_ESTIMADO         516004 non-null  float64\n",
      " 16  EC_EFECT_I           516004 non-null  float64\n",
      " 17  B0                   516004 non-null  float64\n",
      " 18  B1                   516004 non-null  float64\n",
      " 19  PROB_ADJ_EF          516004 non-null  float64\n",
      " 20  VAN_estimado         516004 non-null  float64\n",
      "dtypes: float64(13), int32(5), object(1), string(2)\n",
      "memory usage: 76.8+ MB\n"
     ]
    }
   ],
   "source": [
    "df_res_opt.info()"
   ]
  },
  {
   "cell_type": "code",
   "execution_count": 94,
   "metadata": {},
   "outputs": [
    {
     "name": "stdout",
     "output_type": "stream",
     "text": [
      "   clientes        oferta      prob  tasa_cli  tasa_pnd  mto_estimado  \\\n",
      "0    516004  3.110441e+10  0.007284  0.287452  0.232649  3.344185e+08   \n",
      "\n",
      "   van_estimado  \n",
      "0  3.766750e+08  \n"
     ]
    }
   ],
   "source": [
    "#df_res_opt=pd.Dataframe...... (pero se borra toda la base)\n",
    "\n",
    "df_res_opt_agrega=pd.DataFrame({'clientes':[df_res_opt.shape[0]],\n",
    "                 'oferta': [df_res_opt['MTOFINALOFERTADOSOL'].sum()],\n",
    "                 'prob': [df_res_opt['PROB_ADJ_EF'].mean()],\n",
    "                 'tasa_cli': [df_res_opt['TASA_PROPUESTA'].mean()],\n",
    "                 'tasa_pnd': [(df_res_opt['TASA_PROPUESTA'] * df_res_opt['MTOFINALOFERTADOSOL']).sum() / df_res_opt['MTOFINALOFERTADOSOL'].sum()],\n",
    "                 'mto_estimado': [df_res_opt['MTO_ESTIMADO'].sum()], \n",
    "                 'van_estimado': [df_res_opt['VAN_ESTIMADO'].fillna(0).sum()] # Sumar 'van_estimado' llenando NaN con 0\n",
    "                 \n",
    "                 \n",
    "                 \n",
    "                 })\n",
    "\n",
    "print(df_res_opt_agrega)"
   ]
  },
  {
   "cell_type": "code",
   "execution_count": null,
   "metadata": {},
   "outputs": [],
   "source": []
  }
 ],
 "metadata": {
  "kernelspec": {
   "display_name": "Python 3",
   "language": "python",
   "name": "python3"
  },
  "language_info": {
   "codemirror_mode": {
    "name": "ipython",
    "version": 3
   },
   "file_extension": ".py",
   "mimetype": "text/x-python",
   "name": "python",
   "nbconvert_exporter": "python",
   "pygments_lexer": "ipython3",
   "version": "3.12.1"
  }
 },
 "nbformat": 4,
 "nbformat_minor": 2
}
