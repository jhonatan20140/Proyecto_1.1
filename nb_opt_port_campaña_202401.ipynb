{
 "cells": [
  {
   "cell_type": "code",
   "execution_count": 1,
   "metadata": {},
   "outputs": [],
   "source": [
    "import pandas as pd\n",
    "import numpy as np\n",
    "# !pip install pulp\n",
    "import pulp\n",
    "import copy\n",
    "import random\n",
    "from datetime import datetime\n",
    "from dateutil.relativedelta import relativedelta\n",
    "from pathlib import Path\n",
    "import warnings\n",
    "warnings.filterwarnings(\"ignore\")"
   ]
  },
  {
   "cell_type": "code",
   "execution_count": 2,
   "metadata": {},
   "outputs": [],
   "source": [
    "def opt_port(df_sample,epsilon):\n",
    "    epsilon = epsilon\n",
    "    X_tr = df_sample.copy(deep=True)\n",
    "\n",
    "    mto_van_opt = df_sample[df_sample.flg_max_vane==1]['mto_e'].sum()\n",
    "    mto_opt_port = mto_van_opt*epsilon\n",
    "\n",
    "    idcs = list(df_sample['llave'].unique())\n",
    "    df_sample.set_index(keys=['llave','escenario'], inplace=True)\n",
    "\n",
    "    esc_opt = pulp.LpVariable.dicts(\"esc_opt\",\n",
    "                                    ((idc, escenario) for idc, escenario in df_sample.index),\n",
    "                                    cat='Binary')\n",
    "\n",
    "    # Definición del Modelo\n",
    "    model_opt = pulp.LpProblem(\"Optimización_del_Van_Esperado\", pulp.LpMaximize)\n",
    "\n",
    "    # Función Objetivo\n",
    "    model_opt += pulp.lpSum([esc_opt[idc, escenario] * df_sample.loc[(idc, escenario), 'van_e'] for idc, escenario in df_sample.index]) \n",
    "\n",
    "    # Restricciones\n",
    "    for idc in idcs:\n",
    "        escenarios = X_tr['escenario'][X_tr['llave']==idc]\n",
    "        model_opt += pulp.lpSum(esc_opt[(idc, esc)] for esc in escenarios) == 1\n",
    "\n",
    "    model_opt += pulp.lpSum([esc_opt[idc, escenario] * df_sample.loc[(idc, escenario), 'mto_e'] for idc, escenario in df_sample.index]) >= mto_opt_port\n",
    "\n",
    "    model_opt.solve()\n",
    "\n",
    "\n",
    "    print(pulp.LpStatus[model_opt.status])\n",
    "    print(model_opt.objective.value())\n",
    "\n",
    "\n",
    "    output = []\n",
    "    for idc, esc in esc_opt:\n",
    "        var_output = {\n",
    "            'idc': idc, \n",
    "            'escenario': esc, \n",
    "            'binario': esc_opt[(idc, esc)].varValue, \n",
    "            'value':df_sample.loc[(idc,esc),'van_e'] }\n",
    "        \n",
    "        output.append(var_output) \n",
    "\n",
    "    output_df = pd.DataFrame.from_records(output)\n",
    "    return output_df"
   ]
  },
  {
   "cell_type": "code",
   "execution_count": 3,
   "metadata": {},
   "outputs": [],
   "source": [
    "# route_bases = Path('.').resolve() / 'data' / 'bases'\n",
    "# route_output = Path('.').resolve() / 'data' / 'optimizacion'\n",
    "\n",
    "# input_filename = \"wtp_escenarios_ind_20231229.csv\"\n",
    "# output_filename_5 = f\"salida_opt_port_campania_{(datetime.now() + relativedelta(months=1)).strftime('%Y%m')}_5_new.csv\"\n",
    "# output_filename_10 = f\"salida_opt_port_campania_{(datetime.now() + relativedelta(months=1)).strftime('%Y%m')}_10_new.csv\"\n",
    "\n",
    "\n",
    "# output_filename_5_final, extension = output_filename_5.rsplit('.', 1)  \n",
    "# output_filename_5_final = output_filename_5_final.replace(\"new\", \"escenario_new\")  \n",
    "# output_filename_5_final = f\"{output_filename_5_final}.{extension}\" \n",
    "\n",
    "# output_filename_10_final, extension = output_filename_10.rsplit('.', 1)  \n",
    "# output_filename_10_final = output_filename_10_final.replace(\"new\", \"escenario_new\")  \n",
    "# output_filename_10_final = f\"{output_filename_10_final}.{extension}\" \n",
    "\n",
    "\n",
    "# full_filename_input = route_bases / input_filename\n",
    "# full_filename_output_5 = route_output/ output_filename_5\n",
    "# full_filename_output_10 = route_output/ output_filename_10\n",
    "# full_filename_output_5_final = route_output/ output_filename_5_final\n",
    "\n",
    "# full_filename_output_10_final = route_output/ output_filename_10_final"
   ]
  },
  {
   "cell_type": "code",
   "execution_count": 4,
   "metadata": {},
   "outputs": [
    {
     "data": {
      "text/plain": [
       "Index(['codmes', 'seg_wtp_cef', 'numscoreriesgo', 'codsubsegmento',\n",
       "       'codclavecic', 'llave', 'mtofinalofertadosol', 'rng_prob', 'num_sen',\n",
       "       'iter', 'tasa_propuesta', 'prob_adj', 'prob', 'van', 'van_estimado',\n",
       "       'mto_estimado', 'ec_efect_i', 'b0', 'b1', 'prob_adj_ef',\n",
       "       'flg_subsegmento_consumo'],\n",
       "      dtype='object')"
      ]
     },
     "execution_count": 4,
     "metadata": {},
     "output_type": "execute_result"
    }
   ],
   "source": [
    "route_bases = Path('.').resolve() / 'CEN_CEF_ADAPTACION_5MILL_Base_para_probar_CENOPT.csv'\n",
    "df = pd.read_csv( route_bases)\n",
    "df.columns = df.columns.str.lower()\n",
    "df.columns"
   ]
  },
  {
   "cell_type": "code",
   "execution_count": 5,
   "metadata": {},
   "outputs": [],
   "source": [
    "df = df.rename(columns={'iter': 'escenario',\n",
    "                        'tasa_propuesta':'tea',\n",
    "                        'van_estimado':'van_e',\n",
    "                        'mto_estimado':'mto_e',\n",
    "                        'prob_adj':'tir',\n",
    "                        'prob_adj_ef':'efec',\n",
    "                        })"
   ]
  },
  {
   "cell_type": "code",
   "execution_count": 6,
   "metadata": {},
   "outputs": [
    {
     "data": {
      "text/plain": [
       "Index(['codmes', 'seg_wtp_cef', 'numscoreriesgo', 'codsubsegmento',\n",
       "       'codclavecic', 'llave', 'mtofinalofertadosol', 'rng_prob', 'num_sen',\n",
       "       'escenario', 'tea', 'tir', 'prob', 'van', 'van_e', 'mto_e',\n",
       "       'ec_efect_i', 'b0', 'b1', 'efec', 'flg_subsegmento_consumo'],\n",
       "      dtype='object')"
      ]
     },
     "execution_count": 6,
     "metadata": {},
     "output_type": "execute_result"
    }
   ],
   "source": [
    "df_input = df.copy() \n",
    "df_input.columns"
   ]
  },
  {
   "cell_type": "code",
   "execution_count": 7,
   "metadata": {},
   "outputs": [],
   "source": [
    "df= df[['llave','escenario','tea','van_e', 'mto_e','tir','efec']].sort_values(by=['llave','escenario'])"
   ]
  },
  {
   "cell_type": "code",
   "execution_count": 8,
   "metadata": {},
   "outputs": [],
   "source": [
    "# idx_max = df[df.escenario==0]\n",
    "# idx_max\n",
    "# df.loc[idx_max, 'flg_max_vane'] = 1\n",
    "df['flg_max_vane']=np.where(df.escenario==0,1,0)\n",
    "\n",
    "#df['flg_max_vane'].fillna(0)\n"
   ]
  },
  {
   "cell_type": "code",
   "execution_count": null,
   "metadata": {},
   "outputs": [],
   "source": []
  },
  {
   "cell_type": "code",
   "execution_count": 14,
   "metadata": {},
   "outputs": [
    {
     "name": "stdout",
     "output_type": "stream",
     "text": [
      "Time elapsed (hh:mm:ss.ms) nan, TMO_M: 1000 \n",
      "\n",
      "Time elapsed (hh:mm:ss.ms) nan, TMO_M: 3000 \n",
      "\n",
      "Time elapsed (hh:mm:ss.ms) nan, TMO_M: 5000 \n",
      "\n",
      "Time elapsed (hh:mm:ss.ms) nan, TMO_M: 10000 \n",
      "\n"
     ]
    }
   ],
   "source": [
    "clientes = set(df['llave'])\n",
    "tmo_m_list = [1000,3000,5000,10000]\n",
    "# muestra_list = []\n",
    "tamano_m = []\n",
    "n_group = []\n",
    "# output_list = []\n",
    "# tiempo = []\n",
    "porc = 1.06\n",
    "\n",
    "for i in tmo_m_list:\n",
    "    mc_time = []\n",
    "    tamano_m.append(i)\n",
    "    n_group.append(np.ceil(len(clientes)/(i)))    \n",
    "        \n",
    "    # for x in range(5):\n",
    "    #     clientes_sample = random.sample(list(clientes), i)\n",
    "    #     dfc = df[df.llave.isin(clientes_sample)].reset_index(drop=True)\n",
    "    #     start_time = datetime.now() \n",
    "\n",
    "    #     output_df = opt_port(dfc,porc)\n",
    "        \n",
    "    #     time_elapsed = datetime.now() - start_time  \n",
    "    #     mc_time.append(time_elapsed)\n",
    "        \n",
    "    # tiempo.append(np.mean(mc_time))\n",
    "    \n",
    "    print('Time elapsed (hh:mm:ss.ms) {time_elapsed}, TMO_M: {grupo}'.format(time_elapsed=np.mean(mc_time), grupo=i),\"\\n\")\n",
    "    \n",
    "    \n",
    "    \n",
    "    # muestra_list.append(dfc)\n",
    "    \n",
    "\n",
    "    \n"
   ]
  },
  {
   "cell_type": "code",
   "execution_count": null,
   "metadata": {},
   "outputs": [],
   "source": [
    "# tamano_m\n",
    "# n_group\n",
    "# tiempo"
   ]
  },
  {
   "cell_type": "code",
   "execution_count": 18,
   "metadata": {},
   "outputs": [
    {
     "data": {
      "text/html": [
       "<div>\n",
       "<style scoped>\n",
       "    .dataframe tbody tr th:only-of-type {\n",
       "        vertical-align: middle;\n",
       "    }\n",
       "\n",
       "    .dataframe tbody tr th {\n",
       "        vertical-align: top;\n",
       "    }\n",
       "\n",
       "    .dataframe thead th {\n",
       "        text-align: right;\n",
       "    }\n",
       "</style>\n",
       "<table border=\"1\" class=\"dataframe\">\n",
       "  <thead>\n",
       "    <tr style=\"text-align: right;\">\n",
       "      <th></th>\n",
       "      <th>tamano_m</th>\n",
       "      <th>n_group</th>\n",
       "      <th>Tiempo_c_grp</th>\n",
       "      <th>Time_Total</th>\n",
       "    </tr>\n",
       "  </thead>\n",
       "  <tbody>\n",
       "    <tr>\n",
       "      <th>0</th>\n",
       "      <td>1000</td>\n",
       "      <td>517.0</td>\n",
       "      <td>0 days 00:00:10.275002</td>\n",
       "      <td>0 days 01:28:32.176034</td>\n",
       "    </tr>\n",
       "    <tr>\n",
       "      <th>1</th>\n",
       "      <td>3000</td>\n",
       "      <td>173.0</td>\n",
       "      <td>0 days 00:00:42.705131</td>\n",
       "      <td>0 days 02:03:07.987663</td>\n",
       "    </tr>\n",
       "    <tr>\n",
       "      <th>2</th>\n",
       "      <td>5000</td>\n",
       "      <td>104.0</td>\n",
       "      <td>0 days 00:01:14.775691</td>\n",
       "      <td>0 days 02:09:36.671864</td>\n",
       "    </tr>\n",
       "    <tr>\n",
       "      <th>3</th>\n",
       "      <td>10000</td>\n",
       "      <td>52.0</td>\n",
       "      <td>0 days 00:02:52.368427</td>\n",
       "      <td>0 days 02:29:23.158204</td>\n",
       "    </tr>\n",
       "  </tbody>\n",
       "</table>\n",
       "</div>"
      ],
      "text/plain": [
       "   tamano_m  n_group           Tiempo_c_grp             Time_Total\n",
       "0      1000    517.0 0 days 00:00:10.275002 0 days 01:28:32.176034\n",
       "1      3000    173.0 0 days 00:00:42.705131 0 days 02:03:07.987663\n",
       "2      5000    104.0 0 days 00:01:14.775691 0 days 02:09:36.671864\n",
       "3     10000     52.0 0 days 00:02:52.368427 0 days 02:29:23.158204"
      ]
     },
     "execution_count": 18,
     "metadata": {},
     "output_type": "execute_result"
    }
   ],
   "source": [
    "dicc = {'tamano_m':tamano_m,'n_group':n_group,'Tiempo_c_grp':tiempo}\n",
    "prueba_t = pd.DataFrame(dicc)\n",
    "\n",
    "prueba_t['Time_Total'] = prueba_t.n_group*prueba_t.Tiempo_c_grp\n",
    "prueba_t"
   ]
  },
  {
   "cell_type": "code",
   "execution_count": null,
   "metadata": {},
   "outputs": [],
   "source": [
    "np.mean(tiempo)"
   ]
  },
  {
   "cell_type": "code",
   "execution_count": null,
   "metadata": {},
   "outputs": [],
   "source": []
  },
  {
   "cell_type": "code",
   "execution_count": null,
   "metadata": {},
   "outputs": [],
   "source": []
  },
  {
   "cell_type": "code",
   "execution_count": null,
   "metadata": {},
   "outputs": [],
   "source": [
    "# Load DataFrame\n",
    "\n",
    "#df = pd.read_csv( 'C:\\Users\\JHONATAN\\Documents\\BCP  practicas verano\\CEF_ Credito_Efectivo_Personas\\10000CEN_CEF_ADAPTACIONBase_para_probar_CENOPT.csv',sep=',')\n",
    "\n",
    "# Lista de Clientes\n",
    "clientes = set(df['llave'])\n",
    "\n",
    "# Número de samples que deseas generar\n",
    "samples_num = 10\n",
    "\n",
    "# Tamaño de las submuestras\n",
    "sample_size = int(len(clientes)/samples_num)\n",
    "\n",
    "# Lista de Dataframes\n",
    "df_list = []\n",
    "output_list = []\n",
    "tiempo = []\n",
    "\n",
    "porc = 1.06\n",
    "\n",
    "print(\"Clientes totales del DataFrame:\",len(df.llave.unique()),\"\\n\")\n",
    "\n",
    "dfc = df.copy()\n",
    "# generar las submuestras sin repetir elementos\n",
    "for i in range(1,samples_num+1):\n",
    "    if i<samples_num: \n",
    "        clientes_sample = random.sample(list(clientes), sample_size)\n",
    "        # print(clientes_sample)\n",
    "        df_sample = df[df.llave.isin(clientes_sample)]\n",
    "        df_sample[\"sample_num\"] = i \n",
    "        df = df.drop(df_sample.index)\n",
    "\n",
    "        print(\"Clientes del DataFrame del grupo\",i,\":\",len(df_sample.llave.unique()))\n",
    "        print(\"Clientes que quedan en el DataFrame:\", len(df.llave.unique()))\n",
    "       \n",
    "    \n",
    "        df_list.append(df_sample)\n",
    "        #set1.difference(set2)\n",
    "        clientes = clientes - set(clientes_sample)\n",
    "\n",
    "        start_time = datetime.now() \n",
    "\n",
    "        output_df = opt_port(df_sample,porc)\n",
    "        output_list.append(output_df)\n",
    "        \n",
    "        time_elapsed = datetime.now() - start_time  \n",
    "        tiempo.append(time_elapsed)\n",
    "        print('Time elapsed (hh:mm:ss.ms) {time_elapsed}, grupo:{grupo}'.format(time_elapsed=time_elapsed, grupo=i),\"\\n\")\n",
    "        \n",
    "    else:\n",
    "        df_sample = df.copy()\n",
    "        df_sample[\"sample_num\"] = i    \n",
    "        df_list.append(df_sample)\n",
    "        \n",
    "        print(\"Clientes del último sample:\",len(df_sample.llave.unique()))\n",
    "        \n",
    "        start_time = datetime.now() \n",
    "       \n",
    "        output_df = opt_port(df_sample,porc)\n",
    "        output_list.append(output_df)\n",
    "\n",
    "        time_elapsed = datetime.now() - start_time  \n",
    "        tiempo.append(time_elapsed)\n",
    "        print('Time elapsed (hh:mm:ss.ms) {time_elapsed}, grupo:{grupo}'.format(time_elapsed=time_elapsed, grupo=i),\"\\n\")\n",
    "        \n",
    "      \n",
    "df_tot = pd.concat(df_list)   \n",
    "df_tot_opt = pd.concat(output_list)\n",
    "\n",
    "df = dfc.copy()"
   ]
  },
  {
   "cell_type": "code",
   "execution_count": null,
   "metadata": {},
   "outputs": [],
   "source": [
    "df_tot_opt[df_tot_opt.binario==1]['escenario'].value_counts()"
   ]
  },
  {
   "cell_type": "code",
   "execution_count": null,
   "metadata": {},
   "outputs": [],
   "source": [
    "# df_tot_opt.to_csv(full_filename_output_5,index=False)"
   ]
  },
  {
   "cell_type": "code",
   "execution_count": null,
   "metadata": {},
   "outputs": [],
   "source": [
    "df_tot_opt = pd.read_csv(full_filename_output_5)\n",
    "\n",
    "#Salida del WTP Individual Escenarios\n",
    "df_wtp_esc = pd.read_csv(full_filename_input)\n",
    "\n",
    "#Salida de la Optimización del Portafolio tomando los leads por grupo\n",
    "df_opt_port_group = df_tot_opt[df_tot_opt.binario==1][['idc','escenario']].rename(columns={'idc':'codclavecic'})\n",
    "\n",
    "#Se le pega la TEA Opt por grupo de acuerdo al escenario\n",
    "df_tea_opt_port_by_group = pd.merge(df_opt_port_group, df_wtp_esc[['codclavecic','escenario','tea', 'cluster','tir']], on=['codclavecic','escenario'], how='left')\n",
    "\n",
    "df_tea_opt_port_by_group.to_csv(full_filename_output_5_final, index=False)"
   ]
  },
  {
   "cell_type": "code",
   "execution_count": null,
   "metadata": {},
   "outputs": [],
   "source": [
    "df_tea_opt_port_by_group.shape"
   ]
  },
  {
   "cell_type": "code",
   "execution_count": null,
   "metadata": {},
   "outputs": [],
   "source": [
    "# Load DataFrame\n",
    "df = pd.read_csv(full_filename_input)\n",
    "\n",
    "# Lista de Clientes\n",
    "clientes = set(df['codclavecic'])\n",
    "\n",
    "# Número de samples que deseas generar\n",
    "samples_num = 10\n",
    "\n",
    "# Tamaño de las submuestras\n",
    "sample_size = int(len(clientes)/samples_num)\n",
    "\n",
    "# Lista de Dataframes\n",
    "df_list = []\n",
    "output_list = []\n",
    "\n",
    "porc = 1.061\n",
    "\n",
    "print(\"Clientes totales del DataFrame:\",len(df.codclavecic.unique()),\"\\n\")\n",
    "\n",
    "# generar las submuestras sin repetir elementos\n",
    "for i in range(1,samples_num+1):\n",
    "    if i<samples_num:\n",
    "        clientes_sample = random.sample(clientes, sample_size)\n",
    "        df_sample = df[df.codclavecic.isin(clientes_sample)]\n",
    "        df_sample[\"sample_num\"] = i \n",
    "        df = df.drop(df_sample.index)\n",
    "\n",
    "        print(\"Clientes del DataFrame del grupo\",i,\":\",len(df_sample.codclavecic.unique()))\n",
    "        print(\"Clientes que quedan en el DataFrame:\", len(df.codclavecic.unique()))\n",
    "       \n",
    "    \n",
    "        df_list.append(df_sample)\n",
    "        clientes = clientes - set(clientes_sample)\n",
    "\n",
    "        start_time = datetime.now() \n",
    "\n",
    "        output_df = opt_port(df_sample,porc)\n",
    "        output_list.append(output_df)\n",
    "\n",
    "        time_elapsed = datetime.now() - start_time  \n",
    "        print('Time elapsed (hh:mm:ss.ms) {time_elapsed}, grupo:{grupo}'.format(time_elapsed=time_elapsed, grupo=i),\"\\n\")\n",
    "        \n",
    "    else:\n",
    "        df_sample = df.copy()\n",
    "        df_sample[\"sample_num\"] = i    \n",
    "        df_list.append(df_sample)\n",
    "        \n",
    "        print(\"Clientes del último sample:\",len(df_sample.codclavecic.unique()))\n",
    "        \n",
    "        start_time = datetime.now() \n",
    "       \n",
    "        output_df = opt_port(df_sample,porc)\n",
    "        output_list.append(output_df)\n",
    "\n",
    "        time_elapsed = datetime.now() - start_time  \n",
    "        print('Time elapsed (hh:mm:ss.ms) {time_elapsed}, grupo:{grupo}'.format(time_elapsed=time_elapsed, grupo=i),\"\\n\")\n",
    "        \n",
    "      \n",
    "df_tot_10 = pd.concat(df_list)   \n",
    "df_tot_opt_10 = pd.concat(output_list) "
   ]
  },
  {
   "cell_type": "code",
   "execution_count": null,
   "metadata": {},
   "outputs": [],
   "source": [
    "df_tot_opt_10.to_csv(full_filename_output_10,index=False)"
   ]
  },
  {
   "cell_type": "code",
   "execution_count": null,
   "metadata": {},
   "outputs": [],
   "source": [
    "df_tot_opt_10.shape"
   ]
  },
  {
   "cell_type": "code",
   "execution_count": null,
   "metadata": {},
   "outputs": [],
   "source": [
    "df_tot_opt_10 = pd.read_csv(full_filename_output_10)\n",
    "\n",
    "#Salida del WTP Individual Escenarios\n",
    "df_wtp_esc = pd.read_csv(full_filename_input)\n",
    "\n",
    "#Salida de la Optimización del Portafolio tomando los leads por grupo\n",
    "df_opt_port_group = df_tot_opt_10[df_tot_opt_10.binario==1][['idc','escenario']].rename(columns={'idc':'codclavecic'})\n",
    "\n",
    "#Se le pega la TEA Opt por grupo de acuerdo al escenario\n",
    "df_tea_opt_port_by_group = pd.merge(df_opt_port_group, df_wtp_esc[['codclavecic','escenario','tea', 'cluster','tir']], on=['codclavecic','escenario'], how='left')\n",
    "\n",
    "df_tea_opt_port_by_group.to_csv(full_filename_output_10_final, index=False)"
   ]
  },
  {
   "cell_type": "code",
   "execution_count": null,
   "metadata": {},
   "outputs": [],
   "source": [
    "df_tea_opt_port_by_group.shape"
   ]
  },
  {
   "cell_type": "code",
   "execution_count": null,
   "metadata": {},
   "outputs": [],
   "source": []
  },
  {
   "cell_type": "code",
   "execution_count": null,
   "metadata": {},
   "outputs": [],
   "source": []
  }
 ],
 "metadata": {
  "kernelspec": {
   "display_name": "venv_pyme",
   "language": "python",
   "name": "python3"
  },
  "language_info": {
   "codemirror_mode": {
    "name": "ipython",
    "version": 3
   },
   "file_extension": ".py",
   "mimetype": "text/x-python",
   "name": "python",
   "nbconvert_exporter": "python",
   "pygments_lexer": "ipython3",
   "version": "3.9.13"
  },
  "orig_nbformat": 4,
  "vscode": {
   "interpreter": {
    "hash": "597a4150a6520364bf78df29c2867488b73d93703f953104d734764c02b4978f"
   }
  }
 },
 "nbformat": 4,
 "nbformat_minor": 2
}
