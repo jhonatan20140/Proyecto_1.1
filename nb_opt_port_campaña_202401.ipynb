{
 "cells": [
  {
   "cell_type": "code",
   "execution_count": 2,
   "metadata": {},
   "outputs": [],
   "source": [
    "import pandas as pd\n",
    "import numpy as np\n",
    "# !pip install pulp\n",
    "import pulp\n",
    "import copy\n",
    "import random\n",
    "from datetime import datetime\n",
    "from dateutil.relativedelta import relativedelta\n",
    "from pathlib import Path\n",
    "import warnings\n",
    "warnings.filterwarnings(\"ignore\")"
   ]
  },
  {
   "cell_type": "code",
   "execution_count": 33,
   "metadata": {},
   "outputs": [],
   "source": [
    "def opt_port(df_sample,epsilon):\n",
    "    epsilon = epsilon\n",
    "    X_tr = df_sample.copy(deep=True)\n",
    "\n",
    "    mto_van_opt = df_sample[df_sample.flg_max_vane==1]['mto_e'].sum()\n",
    "    mto_opt_port = mto_van_opt*epsilon\n",
    "\n",
    "    idcs = list(df_sample['llave'].unique())\n",
    "    df_sample.set_index(keys=['llave','escenario'], inplace=True)\n",
    "\n",
    "    esc_opt = pulp.LpVariable.dicts(\"esc_opt\",\n",
    "                                    ((idc, escenario) for idc, escenario in df_sample.index),\n",
    "                                    cat='Binary')\n",
    "\n",
    "    # Definición del Modelo\n",
    "    model_opt = pulp.LpProblem(\"Optimización_del_Van_Esperado\", pulp.LpMaximize)\n",
    "\n",
    "    # Función Objetivo\n",
    "    model_opt += pulp.lpSum([esc_opt[idc, escenario] * df_sample.loc[(idc, escenario), 'van_e'] for idc, escenario in df_sample.index]) \n",
    "\n",
    "    # Restricciones\n",
    "    for idc in idcs:\n",
    "        escenarios = X_tr['escenario'][X_tr['llave']==idc]\n",
    "        model_opt += pulp.lpSum(esc_opt[(idc, esc)] for esc in escenarios) == 1\n",
    "\n",
    "    model_opt += pulp.lpSum([esc_opt[idc, escenario] * df_sample.loc[(idc, escenario), 'mto_e'] for idc, escenario in df_sample.index]) >= mto_opt_port\n",
    "\n",
    "    model_opt.solve()\n",
    "\n",
    "\n",
    "    print(pulp.LpStatus[model_opt.status])\n",
    "    print(model_opt.objective.value())\n",
    "\n",
    "\n",
    "    output = []\n",
    "    for idc, esc in esc_opt:\n",
    "        var_output = {\n",
    "            'idc': idc, \n",
    "            'escenario': esc, \n",
    "            'binario': esc_opt[(idc, esc)].varValue, \n",
    "            'value':df_sample.loc[(idc,esc),'van_e'] }\n",
    "        \n",
    "        output.append(var_output) \n",
    "\n",
    "    output_df = pd.DataFrame.from_records(output)\n",
    "    return output_df"
   ]
  },
  {
   "cell_type": "code",
   "execution_count": 35,
   "metadata": {},
   "outputs": [],
   "source": [
    "route_bases = Path('.').resolve() / 'data' / 'bases'\n",
    "route_output = Path('.').resolve() / 'data' / 'optimizacion'\n",
    "\n",
    "input_filename = \"wtp_escenarios_ind_20231229.csv\"\n",
    "output_filename_5 = f\"salida_opt_port_campania_{(datetime.now() + relativedelta(months=1)).strftime('%Y%m')}_5_new.csv\"\n",
    "output_filename_10 = f\"salida_opt_port_campania_{(datetime.now() + relativedelta(months=1)).strftime('%Y%m')}_10_new.csv\"\n",
    "\n",
    "\n",
    "output_filename_5_final, extension = output_filename_5.rsplit('.', 1)  \n",
    "output_filename_5_final = output_filename_5_final.replace(\"new\", \"escenario_new\")  \n",
    "output_filename_5_final = f\"{output_filename_5_final}.{extension}\" \n",
    "\n",
    "output_filename_10_final, extension = output_filename_10.rsplit('.', 1)  \n",
    "output_filename_10_final = output_filename_10_final.replace(\"new\", \"escenario_new\")  \n",
    "output_filename_10_final = f\"{output_filename_10_final}.{extension}\" \n",
    "\n",
    "\n",
    "full_filename_input = route_bases / input_filename\n",
    "full_filename_output_5 = route_output/ output_filename_5\n",
    "full_filename_output_10 = route_output/ output_filename_10\n",
    "full_filename_output_5_final = route_output/ output_filename_5_final\n",
    "\n",
    "full_filename_output_10_final = route_output/ output_filename_10_final"
   ]
  },
  {
   "cell_type": "code",
   "execution_count": 36,
   "metadata": {},
   "outputs": [
    {
     "data": {
      "text/plain": [
       "Index(['codmes', 'seg_wtp_cef', 'numscoreriesgo', 'codsubsegmento',\n",
       "       'codclavecic', 'llave', 'mtofinalofertadosol', 'rng_prob', 'num_sen',\n",
       "       'iter', 'tasa_propuesta', 'prob_adj', 'prob', 'van', 'van_estimado',\n",
       "       'mto_estimado', 'ec_efect_i', 'b0', 'b1', 'prob_adj_ef',\n",
       "       'flg_subsegmento_consumo'],\n",
       "      dtype='object')"
      ]
     },
     "execution_count": 36,
     "metadata": {},
     "output_type": "execute_result"
    }
   ],
   "source": [
    "route_bases = Path('.').resolve() / 'CEN_CEF_ADAPTACION_10000_Base_para_probar_CENOPT.csv'\n",
    "df = pd.read_csv( route_bases)\n",
    "df.columns = df.columns.str.lower()\n",
    "df.columns"
   ]
  },
  {
   "cell_type": "code",
   "execution_count": 37,
   "metadata": {},
   "outputs": [],
   "source": [
    "df = df.rename(columns={'iter': 'escenario',\n",
    "                        'tasa_propuesta':'tea',\n",
    "                        'van_estimado':'van_e',\n",
    "                        'mto_estimado':'mto_e',\n",
    "                        'prob_adj':'tir',\n",
    "                        'prob_adj_ef':'efec',\n",
    "                        })"
   ]
  },
  {
   "cell_type": "code",
   "execution_count": 40,
   "metadata": {},
   "outputs": [],
   "source": [
    "df= df[['llave','escenario','tea','van_e', 'mto_e','tir','efec']].sort_values(by=['llave','escenario'])"
   ]
  },
  {
   "cell_type": "code",
   "execution_count": 41,
   "metadata": {},
   "outputs": [
    {
     "data": {
      "text/html": [
       "<div>\n",
       "<style scoped>\n",
       "    .dataframe tbody tr th:only-of-type {\n",
       "        vertical-align: middle;\n",
       "    }\n",
       "\n",
       "    .dataframe tbody tr th {\n",
       "        vertical-align: top;\n",
       "    }\n",
       "\n",
       "    .dataframe thead th {\n",
       "        text-align: right;\n",
       "    }\n",
       "</style>\n",
       "<table border=\"1\" class=\"dataframe\">\n",
       "  <thead>\n",
       "    <tr style=\"text-align: right;\">\n",
       "      <th></th>\n",
       "      <th>llave</th>\n",
       "      <th>escenario</th>\n",
       "      <th>tea</th>\n",
       "      <th>van_e</th>\n",
       "      <th>mto_e</th>\n",
       "      <th>tir</th>\n",
       "      <th>efec</th>\n",
       "    </tr>\n",
       "  </thead>\n",
       "  <tbody>\n",
       "    <tr>\n",
       "      <th>0</th>\n",
       "      <td>10000051-LD-CRE</td>\n",
       "      <td>-3</td>\n",
       "      <td>0.195</td>\n",
       "      <td>11.104456</td>\n",
       "      <td>654.935921</td>\n",
       "      <td>0.894035</td>\n",
       "      <td>0.008156</td>\n",
       "    </tr>\n",
       "    <tr>\n",
       "      <th>1</th>\n",
       "      <td>10000051-LD-CRE</td>\n",
       "      <td>-2</td>\n",
       "      <td>0.199</td>\n",
       "      <td>11.839493</td>\n",
       "      <td>651.630568</td>\n",
       "      <td>0.890596</td>\n",
       "      <td>0.008115</td>\n",
       "    </tr>\n",
       "    <tr>\n",
       "      <th>2</th>\n",
       "      <td>10000051-LD-CRE</td>\n",
       "      <td>-1</td>\n",
       "      <td>0.205</td>\n",
       "      <td>12.967799</td>\n",
       "      <td>646.550027</td>\n",
       "      <td>0.885255</td>\n",
       "      <td>0.008052</td>\n",
       "    </tr>\n",
       "  </tbody>\n",
       "</table>\n",
       "</div>"
      ],
      "text/plain": [
       "             llave  escenario    tea      van_e       mto_e       tir   \n",
       "0  10000051-LD-CRE         -3  0.195  11.104456  654.935921  0.894035  \\\n",
       "1  10000051-LD-CRE         -2  0.199  11.839493  651.630568  0.890596   \n",
       "2  10000051-LD-CRE         -1  0.205  12.967799  646.550027  0.885255   \n",
       "\n",
       "       efec  \n",
       "0  0.008156  \n",
       "1  0.008115  \n",
       "2  0.008052  "
      ]
     },
     "execution_count": 41,
     "metadata": {},
     "output_type": "execute_result"
    }
   ],
   "source": [
    "df.head(3)"
   ]
  },
  {
   "cell_type": "code",
   "execution_count": 51,
   "metadata": {},
   "outputs": [],
   "source": [
    "# idx_max = df[df.escenario==0]\n",
    "# idx_max\n",
    "# df.loc[idx_max, 'flg_max_vane'] = 1\n",
    "df['flg_max_vane']=np.where(df.escenario==0,1,0)\n",
    "\n",
    "#df['flg_max_vane'].fillna(0)\n"
   ]
  },
  {
   "cell_type": "code",
   "execution_count": 52,
   "metadata": {},
   "outputs": [
    {
     "name": "stdout",
     "output_type": "stream",
     "text": [
      "Clientes totales del DataFrame: 9999 \n",
      "\n",
      "Clientes del DataFrame del grupo 1 : 999\n",
      "Clientes que quedan en el DataFrame: 9000\n",
      "Optimal\n",
      "9317.466034052542\n",
      "Time elapsed (hh:mm:ss.ms) 0:00:04.740565, grupo:1 \n",
      "\n",
      "Clientes del DataFrame del grupo 2 : 999\n",
      "Clientes que quedan en el DataFrame: 8001\n",
      "Optimal\n",
      "9086.236088506632\n",
      "Time elapsed (hh:mm:ss.ms) 0:00:04.956406, grupo:2 \n",
      "\n",
      "Clientes del DataFrame del grupo 3 : 999\n",
      "Clientes que quedan en el DataFrame: 7002\n",
      "Optimal\n",
      "9719.063735097829\n",
      "Time elapsed (hh:mm:ss.ms) 0:00:04.861132, grupo:3 \n",
      "\n",
      "Clientes del DataFrame del grupo 4 : 999\n",
      "Clientes que quedan en el DataFrame: 6003\n",
      "Optimal\n",
      "9810.001770630299\n",
      "Time elapsed (hh:mm:ss.ms) 0:00:03.908531, grupo:4 \n",
      "\n",
      "Clientes del DataFrame del grupo 5 : 999\n",
      "Clientes que quedan en el DataFrame: 5004\n",
      "Optimal\n",
      "9925.399072046212\n",
      "Time elapsed (hh:mm:ss.ms) 0:00:05.412150, grupo:5 \n",
      "\n",
      "Clientes del DataFrame del grupo 6 : 999\n",
      "Clientes que quedan en el DataFrame: 4005\n",
      "Optimal\n",
      "9581.505151155403\n",
      "Time elapsed (hh:mm:ss.ms) 0:00:04.549884, grupo:6 \n",
      "\n",
      "Clientes del DataFrame del grupo 7 : 999\n",
      "Clientes que quedan en el DataFrame: 3006\n",
      "Optimal\n",
      "9284.392389973415\n",
      "Time elapsed (hh:mm:ss.ms) 0:00:04.646262, grupo:7 \n",
      "\n",
      "Clientes del DataFrame del grupo 8 : 999\n",
      "Clientes que quedan en el DataFrame: 2007\n",
      "Optimal\n",
      "9679.63214519281\n",
      "Time elapsed (hh:mm:ss.ms) 0:00:04.436520, grupo:8 \n",
      "\n",
      "Clientes del DataFrame del grupo 9 : 999\n",
      "Clientes que quedan en el DataFrame: 1008\n",
      "Optimal\n",
      "9305.145311364615\n",
      "Time elapsed (hh:mm:ss.ms) 0:00:04.714784, grupo:9 \n",
      "\n",
      "Clientes del último sample: 1008\n",
      "Optimal\n",
      "9551.29360544833\n",
      "Time elapsed (hh:mm:ss.ms) 0:00:05.306711, grupo:10 \n",
      "\n"
     ]
    }
   ],
   "source": [
    "# Load DataFrame\n",
    "\n",
    "#df = pd.read_csv( 'C:\\Users\\JHONATAN\\Documents\\BCP  practicas verano\\CEF_ Credito_Efectivo_Personas\\10000CEN_CEF_ADAPTACIONBase_para_probar_CENOPT.csv',sep=',')\n",
    "\n",
    "# Lista de Clientes\n",
    "clientes = set(df['llave'])\n",
    "\n",
    "# Número de samples que deseas generar\n",
    "samples_num = 10\n",
    "\n",
    "# Tamaño de las submuestras\n",
    "sample_size = int(len(clientes)/samples_num)\n",
    "\n",
    "# Lista de Dataframes\n",
    "df_list = []\n",
    "output_list = []\n",
    "tiempo = []\n",
    "\n",
    "porc = 1.05\n",
    "\n",
    "print(\"Clientes totales del DataFrame:\",len(df.llave.unique()),\"\\n\")\n",
    "\n",
    "dfc = df.copy()\n",
    "# generar las submuestras sin repetir elementos\n",
    "for i in range(1,samples_num+1):\n",
    "    if i<samples_num: \n",
    "        clientes_sample = random.sample(list(clientes), sample_size)\n",
    "        # print(clientes_sample)\n",
    "        df_sample = df[df.llave.isin(clientes_sample)]\n",
    "        df_sample[\"sample_num\"] = i \n",
    "        df = df.drop(df_sample.index)\n",
    "\n",
    "        print(\"Clientes del DataFrame del grupo\",i,\":\",len(df_sample.llave.unique()))\n",
    "        print(\"Clientes que quedan en el DataFrame:\", len(df.llave.unique()))\n",
    "       \n",
    "    \n",
    "        df_list.append(df_sample)\n",
    "        #set1.difference(set2)\n",
    "        clientes = clientes - set(clientes_sample)\n",
    "\n",
    "        start_time = datetime.now() \n",
    "\n",
    "        output_df = opt_port(df_sample,porc)\n",
    "        output_list.append(output_df)\n",
    "        \n",
    "        time_elapsed = datetime.now() - start_time  \n",
    "        tiempo.append(time_elapsed)\n",
    "        print('Time elapsed (hh:mm:ss.ms) {time_elapsed}, grupo:{grupo}'.format(time_elapsed=time_elapsed, grupo=i),\"\\n\")\n",
    "        \n",
    "    else:\n",
    "        df_sample = df.copy()\n",
    "        df_sample[\"sample_num\"] = i    \n",
    "        df_list.append(df_sample)\n",
    "        \n",
    "        print(\"Clientes del último sample:\",len(df_sample.llave.unique()))\n",
    "        \n",
    "        start_time = datetime.now() \n",
    "       \n",
    "        output_df = opt_port(df_sample,porc)\n",
    "        output_list.append(output_df)\n",
    "\n",
    "        time_elapsed = datetime.now() - start_time  \n",
    "        tiempo.append(time_elapsed)\n",
    "        print('Time elapsed (hh:mm:ss.ms) {time_elapsed}, grupo:{grupo}'.format(time_elapsed=time_elapsed, grupo=i),\"\\n\")\n",
    "        \n",
    "      \n",
    "df_tot = pd.concat(df_list)   \n",
    "df_tot_opt = pd.concat(output_list)\n",
    "\n",
    "df = dfc.copy()"
   ]
  },
  {
   "cell_type": "code",
   "execution_count": 45,
   "metadata": {},
   "outputs": [
    {
     "data": {
      "text/plain": [
       "escenario\n",
       " 7    1713\n",
       "-2    1035\n",
       " 3     973\n",
       " 2     883\n",
       "-5     746\n",
       " 4     638\n",
       "-4     608\n",
       " 5     497\n",
       " 0     462\n",
       " 1     446\n",
       "-1     435\n",
       "-7     418\n",
       "-8     407\n",
       " 6     229\n",
       "-3     201\n",
       " 8     172\n",
       "-6     136\n",
       "Name: count, dtype: int64"
      ]
     },
     "execution_count": 45,
     "metadata": {},
     "output_type": "execute_result"
    }
   ],
   "source": [
    "df_tot_opt[df_tot_opt.binario==1]['escenario'].value_counts()"
   ]
  },
  {
   "cell_type": "code",
   "execution_count": 46,
   "metadata": {},
   "outputs": [],
   "source": [
    "# df_tot_opt.to_csv(full_filename_output_5,index=False)"
   ]
  },
  {
   "cell_type": "code",
   "execution_count": 7,
   "metadata": {},
   "outputs": [],
   "source": [
    "df_tot_opt = pd.read_csv(full_filename_output_5)\n",
    "\n",
    "#Salida del WTP Individual Escenarios\n",
    "df_wtp_esc = pd.read_csv(full_filename_input)\n",
    "\n",
    "#Salida de la Optimización del Portafolio tomando los leads por grupo\n",
    "df_opt_port_group = df_tot_opt[df_tot_opt.binario==1][['idc','escenario']].rename(columns={'idc':'codclavecic'})\n",
    "\n",
    "#Se le pega la TEA Opt por grupo de acuerdo al escenario\n",
    "df_tea_opt_port_by_group = pd.merge(df_opt_port_group, df_wtp_esc[['codclavecic','escenario','tea', 'cluster','tir']], on=['codclavecic','escenario'], how='left')\n",
    "\n",
    "df_tea_opt_port_by_group.to_csv(full_filename_output_5_final, index=False)"
   ]
  },
  {
   "cell_type": "code",
   "execution_count": 8,
   "metadata": {},
   "outputs": [
    {
     "data": {
      "text/plain": [
       "(18579, 5)"
      ]
     },
     "execution_count": 8,
     "metadata": {},
     "output_type": "execute_result"
    }
   ],
   "source": [
    "df_tea_opt_port_by_group.shape"
   ]
  },
  {
   "cell_type": "code",
   "execution_count": 14,
   "metadata": {},
   "outputs": [
    {
     "name": "stdout",
     "output_type": "stream",
     "text": [
      "Clientes totales del DataFrame: 18579 \n",
      "\n",
      "Clientes del DataFrame del grupo 1 : 1857\n",
      "Clientes que quedan en el DataFrame: 16722\n",
      "Optimal\n",
      "137064.396979098\n",
      "Time elapsed (hh:mm:ss.ms) 0:00:27.943870, grupo:1 \n",
      "\n",
      "Clientes del DataFrame del grupo 2 : 1857\n",
      "Clientes que quedan en el DataFrame: 14865\n",
      "Optimal\n",
      "133502.8731850735\n",
      "Time elapsed (hh:mm:ss.ms) 0:00:28.597663, grupo:2 \n",
      "\n",
      "Clientes del DataFrame del grupo 3 : 1857\n",
      "Clientes que quedan en el DataFrame: 13008\n",
      "Optimal\n",
      "146382.3465535692\n",
      "Time elapsed (hh:mm:ss.ms) 0:00:14.047463, grupo:3 \n",
      "\n",
      "Clientes del DataFrame del grupo 4 : 1857\n",
      "Clientes que quedan en el DataFrame: 11151\n",
      "Optimal\n",
      "143269.92845842056\n",
      "Time elapsed (hh:mm:ss.ms) 0:00:19.788370, grupo:4 \n",
      "\n",
      "Clientes del DataFrame del grupo 5 : 1857\n",
      "Clientes que quedan en el DataFrame: 9294\n",
      "Optimal\n",
      "128798.93850335418\n",
      "Time elapsed (hh:mm:ss.ms) 0:00:09.821486, grupo:5 \n",
      "\n",
      "Clientes del DataFrame del grupo 6 : 1857\n",
      "Clientes que quedan en el DataFrame: 7437\n",
      "Optimal\n",
      "146767.73621654997\n",
      "Time elapsed (hh:mm:ss.ms) 0:00:26.087441, grupo:6 \n",
      "\n",
      "Clientes del DataFrame del grupo 7 : 1857\n",
      "Clientes que quedan en el DataFrame: 5580\n",
      "Optimal\n",
      "135371.9569290795\n",
      "Time elapsed (hh:mm:ss.ms) 0:00:08.422558, grupo:7 \n",
      "\n",
      "Clientes del DataFrame del grupo 8 : 1857\n",
      "Clientes que quedan en el DataFrame: 3723\n",
      "Optimal\n",
      "125935.21971351928\n",
      "Time elapsed (hh:mm:ss.ms) 0:00:14.908116, grupo:8 \n",
      "\n",
      "Clientes del DataFrame del grupo 9 : 1857\n",
      "Clientes que quedan en el DataFrame: 1866\n",
      "Optimal\n",
      "136204.64566202534\n",
      "Time elapsed (hh:mm:ss.ms) 0:00:21.345157, grupo:9 \n",
      "\n",
      "Clientes del último sample: 1866\n",
      "Optimal\n",
      "144907.6917665175\n",
      "Time elapsed (hh:mm:ss.ms) 0:00:16.824441, grupo:10 \n",
      "\n"
     ]
    }
   ],
   "source": [
    "# Load DataFrame\n",
    "df = pd.read_csv(full_filename_input)\n",
    "\n",
    "# Lista de Clientes\n",
    "clientes = set(df['codclavecic'])\n",
    "\n",
    "# Número de samples que deseas generar\n",
    "samples_num = 10\n",
    "\n",
    "# Tamaño de las submuestras\n",
    "sample_size = int(len(clientes)/samples_num)\n",
    "\n",
    "# Lista de Dataframes\n",
    "df_list = []\n",
    "output_list = []\n",
    "\n",
    "porc = 1.061\n",
    "\n",
    "print(\"Clientes totales del DataFrame:\",len(df.codclavecic.unique()),\"\\n\")\n",
    "\n",
    "# generar las submuestras sin repetir elementos\n",
    "for i in range(1,samples_num+1):\n",
    "    if i<samples_num:\n",
    "        clientes_sample = random.sample(clientes, sample_size)\n",
    "        df_sample = df[df.codclavecic.isin(clientes_sample)]\n",
    "        df_sample[\"sample_num\"] = i \n",
    "        df = df.drop(df_sample.index)\n",
    "\n",
    "        print(\"Clientes del DataFrame del grupo\",i,\":\",len(df_sample.codclavecic.unique()))\n",
    "        print(\"Clientes que quedan en el DataFrame:\", len(df.codclavecic.unique()))\n",
    "       \n",
    "    \n",
    "        df_list.append(df_sample)\n",
    "        clientes = clientes - set(clientes_sample)\n",
    "\n",
    "        start_time = datetime.now() \n",
    "\n",
    "        output_df = opt_port(df_sample,porc)\n",
    "        output_list.append(output_df)\n",
    "\n",
    "        time_elapsed = datetime.now() - start_time  \n",
    "        print('Time elapsed (hh:mm:ss.ms) {time_elapsed}, grupo:{grupo}'.format(time_elapsed=time_elapsed, grupo=i),\"\\n\")\n",
    "        \n",
    "    else:\n",
    "        df_sample = df.copy()\n",
    "        df_sample[\"sample_num\"] = i    \n",
    "        df_list.append(df_sample)\n",
    "        \n",
    "        print(\"Clientes del último sample:\",len(df_sample.codclavecic.unique()))\n",
    "        \n",
    "        start_time = datetime.now() \n",
    "       \n",
    "        output_df = opt_port(df_sample,porc)\n",
    "        output_list.append(output_df)\n",
    "\n",
    "        time_elapsed = datetime.now() - start_time  \n",
    "        print('Time elapsed (hh:mm:ss.ms) {time_elapsed}, grupo:{grupo}'.format(time_elapsed=time_elapsed, grupo=i),\"\\n\")\n",
    "        \n",
    "      \n",
    "df_tot_10 = pd.concat(df_list)   \n",
    "df_tot_opt_10 = pd.concat(output_list) "
   ]
  },
  {
   "cell_type": "code",
   "execution_count": 15,
   "metadata": {},
   "outputs": [],
   "source": [
    "df_tot_opt_10.to_csv(full_filename_output_10,index=False)"
   ]
  },
  {
   "cell_type": "code",
   "execution_count": 16,
   "metadata": {},
   "outputs": [
    {
     "data": {
      "text/plain": [
       "(259177, 4)"
      ]
     },
     "execution_count": 16,
     "metadata": {},
     "output_type": "execute_result"
    }
   ],
   "source": [
    "df_tot_opt_10.shape"
   ]
  },
  {
   "cell_type": "code",
   "execution_count": 17,
   "metadata": {},
   "outputs": [],
   "source": [
    "df_tot_opt_10 = pd.read_csv(full_filename_output_10)\n",
    "\n",
    "#Salida del WTP Individual Escenarios\n",
    "df_wtp_esc = pd.read_csv(full_filename_input)\n",
    "\n",
    "#Salida de la Optimización del Portafolio tomando los leads por grupo\n",
    "df_opt_port_group = df_tot_opt_10[df_tot_opt_10.binario==1][['idc','escenario']].rename(columns={'idc':'codclavecic'})\n",
    "\n",
    "#Se le pega la TEA Opt por grupo de acuerdo al escenario\n",
    "df_tea_opt_port_by_group = pd.merge(df_opt_port_group, df_wtp_esc[['codclavecic','escenario','tea', 'cluster','tir']], on=['codclavecic','escenario'], how='left')\n",
    "\n",
    "df_tea_opt_port_by_group.to_csv(full_filename_output_10_final, index=False)"
   ]
  },
  {
   "cell_type": "code",
   "execution_count": 18,
   "metadata": {},
   "outputs": [
    {
     "data": {
      "text/plain": [
       "(18579, 5)"
      ]
     },
     "execution_count": 18,
     "metadata": {},
     "output_type": "execute_result"
    }
   ],
   "source": [
    "df_tea_opt_port_by_group.shape"
   ]
  },
  {
   "cell_type": "code",
   "execution_count": null,
   "metadata": {},
   "outputs": [],
   "source": []
  },
  {
   "cell_type": "code",
   "execution_count": null,
   "metadata": {},
   "outputs": [],
   "source": []
  }
 ],
 "metadata": {
  "kernelspec": {
   "display_name": "venv_pyme",
   "language": "python",
   "name": "python3"
  },
  "language_info": {
   "codemirror_mode": {
    "name": "ipython",
    "version": 3
   },
   "file_extension": ".py",
   "mimetype": "text/x-python",
   "name": "python",
   "nbconvert_exporter": "python",
   "pygments_lexer": "ipython3",
   "version": "3.9.13"
  },
  "orig_nbformat": 4,
  "vscode": {
   "interpreter": {
    "hash": "597a4150a6520364bf78df29c2867488b73d93703f953104d734764c02b4978f"
   }
  }
 },
 "nbformat": 4,
 "nbformat_minor": 2
}
