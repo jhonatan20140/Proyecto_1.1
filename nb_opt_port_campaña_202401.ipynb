{
 "cells": [
  {
   "cell_type": "code",
   "execution_count": 1,
   "metadata": {},
   "outputs": [],
   "source": [
    "import pandas as pd\n",
    "import numpy as np\n",
    "import pulp\n",
    "import copy\n",
    "import random\n",
    "from datetime import datetime\n",
    "from dateutil.relativedelta import relativedelta\n",
    "from pathlib import Path\n",
    "import warnings\n",
    "warnings.filterwarnings(\"ignore\")"
   ]
  },
  {
   "cell_type": "code",
   "execution_count": 2,
   "metadata": {},
   "outputs": [],
   "source": [
    "def opt_port(df_sample,epsilon):\n",
    "    epsilon = epsilon\n",
    "    X_tr = df_sample.copy(deep=True)\n",
    "\n",
    "    mto_van_opt = df_sample[df_sample.flg_max_vane==1]['mto_e'].sum()\n",
    "    mto_opt_port = mto_van_opt*epsilon\n",
    "\n",
    "    idcs = list(df_sample['codclavecic'].unique())\n",
    "    df_sample.set_index(keys=['codclavecic','escenario'], inplace=True)\n",
    "\n",
    "    esc_opt = pulp.LpVariable.dicts(\"esc_opt\",\n",
    "                                    ((idc, escenario) for idc, escenario in df_sample.index),\n",
    "                                    cat='Binary')\n",
    "\n",
    "    # Definición del Modelo\n",
    "    model_opt = pulp.LpProblem(\"Optimización_del_Van_Esperado\", pulp.LpMaximize)\n",
    "\n",
    "    # Función Objetivo\n",
    "    model_opt += pulp.lpSum([esc_opt[idc, escenario] * df_sample.loc[(idc, escenario), 'van_e'] for idc, escenario in df_sample.index]) \n",
    "\n",
    "    # Restricciones\n",
    "    for idc in idcs:\n",
    "        escenarios = X_tr['escenario'][X_tr['codclavecic']==idc]\n",
    "        model_opt += pulp.lpSum(esc_opt[(idc, esc)] for esc in escenarios) == 1\n",
    "\n",
    "    model_opt += pulp.lpSum([esc_opt[idc, escenario] * df_sample.loc[(idc, escenario), 'mto_e'] for idc, escenario in df_sample.index]) >= mto_opt_port\n",
    "\n",
    "    model_opt.solve()\n",
    "\n",
    "\n",
    "    print(pulp.LpStatus[model_opt.status])\n",
    "    print(model_opt.objective.value())\n",
    "\n",
    "\n",
    "    output = []\n",
    "    for idc, esc in esc_opt:\n",
    "        var_output = {\n",
    "            'idc': idc, \n",
    "            'escenario': esc, \n",
    "            'binario': esc_opt[(idc, esc)].varValue, \n",
    "            'value':df_sample.loc[(idc,esc),'van_e'] }\n",
    "        \n",
    "        output.append(var_output) \n",
    "\n",
    "    output_df = pd.DataFrame.from_records(output)\n",
    "    return output_df"
   ]
  },
  {
   "cell_type": "code",
   "execution_count": 3,
   "metadata": {},
   "outputs": [],
   "source": [
    "route_bases = Path('.').resolve() / 'data' / 'bases'\n",
    "route_output = Path('.').resolve() / 'data' / 'optimizacion'\n",
    "\n",
    "input_filename = \"wtp_escenarios_ind_20231229.csv\"\n",
    "output_filename_5 = f\"salida_opt_port_campania_{(datetime.now() + relativedelta(months=1)).strftime('%Y%m')}_5_new.csv\"\n",
    "output_filename_10 = f\"salida_opt_port_campania_{(datetime.now() + relativedelta(months=1)).strftime('%Y%m')}_10_new.csv\"\n",
    "\n",
    "\n",
    "output_filename_5_final, extension = output_filename_5.rsplit('.', 1)  \n",
    "output_filename_5_final = output_filename_5_final.replace(\"new\", \"escenario_new\")  \n",
    "output_filename_5_final = f\"{output_filename_5_final}.{extension}\" \n",
    "\n",
    "output_filename_10_final, extension = output_filename_10.rsplit('.', 1)  \n",
    "output_filename_10_final = output_filename_10_final.replace(\"new\", \"escenario_new\")  \n",
    "output_filename_10_final = f\"{output_filename_10_final}.{extension}\" \n",
    "\n",
    "\n",
    "full_filename_input = route_bases / input_filename\n",
    "full_filename_output_5 = route_output/ output_filename_5\n",
    "full_filename_output_10 = route_output/ output_filename_10\n",
    "full_filename_output_5_final = route_output/ output_filename_5_final\n",
    "full_filename_output_10_final = route_output/ output_filename_10_final"
   ]
  },
  {
   "cell_type": "code",
   "execution_count": 4,
   "metadata": {},
   "outputs": [
    {
     "name": "stdout",
     "output_type": "stream",
     "text": [
      "Clientes totales del DataFrame: 18579 \n",
      "\n",
      "Clientes del DataFrame del grupo 1 : 1857\n",
      "Clientes que quedan en el DataFrame: 16722\n",
      "Optimal\n",
      "155837.59817939054\n",
      "Time elapsed (hh:mm:ss.ms) 0:00:30.833632, grupo:1 \n",
      "\n",
      "Clientes del DataFrame del grupo 2 : 1857\n",
      "Clientes que quedan en el DataFrame: 14865\n",
      "Optimal\n",
      "158707.93770185372\n",
      "Time elapsed (hh:mm:ss.ms) 0:00:26.436268, grupo:2 \n",
      "\n",
      "Clientes del DataFrame del grupo 3 : 1857\n",
      "Clientes que quedan en el DataFrame: 13008\n",
      "Optimal\n",
      "153460.84167399217\n",
      "Time elapsed (hh:mm:ss.ms) 0:00:25.346703, grupo:3 \n",
      "\n",
      "Clientes del DataFrame del grupo 4 : 1857\n",
      "Clientes que quedan en el DataFrame: 11151\n",
      "Optimal\n",
      "155705.05576288415\n",
      "Time elapsed (hh:mm:ss.ms) 0:00:15.027070, grupo:4 \n",
      "\n",
      "Clientes del DataFrame del grupo 5 : 1857\n",
      "Clientes que quedan en el DataFrame: 9294\n",
      "Optimal\n",
      "155774.96984727803\n",
      "Time elapsed (hh:mm:ss.ms) 0:00:26.084832, grupo:5 \n",
      "\n",
      "Clientes del DataFrame del grupo 6 : 1857\n",
      "Clientes que quedan en el DataFrame: 7437\n",
      "Optimal\n",
      "162534.73409855523\n",
      "Time elapsed (hh:mm:ss.ms) 0:00:16.927957, grupo:6 \n",
      "\n",
      "Clientes del DataFrame del grupo 7 : 1857\n",
      "Clientes que quedan en el DataFrame: 5580\n",
      "Optimal\n",
      "151411.05740139232\n",
      "Time elapsed (hh:mm:ss.ms) 0:01:09.071242, grupo:7 \n",
      "\n",
      "Clientes del DataFrame del grupo 8 : 1857\n",
      "Clientes que quedan en el DataFrame: 3723\n",
      "Optimal\n",
      "158991.83535147563\n",
      "Time elapsed (hh:mm:ss.ms) 0:00:31.285764, grupo:8 \n",
      "\n",
      "Clientes del DataFrame del grupo 9 : 1857\n",
      "Clientes que quedan en el DataFrame: 1866\n",
      "Optimal\n",
      "164039.50365226145\n",
      "Time elapsed (hh:mm:ss.ms) 0:00:28.857381, grupo:9 \n",
      "\n",
      "Clientes del último sample: 1866\n",
      "Optimal\n",
      "150323.0919427438\n",
      "Time elapsed (hh:mm:ss.ms) 0:00:20.772944, grupo:10 \n",
      "\n"
     ]
    }
   ],
   "source": [
    "# Load DataFrame\n",
    "df = pd.read_csv(full_filename_input)\n",
    "\n",
    "# Lista de Clientes\n",
    "clientes = set(df['codclavecic'])\n",
    "\n",
    "# Número de samples que deseas generar\n",
    "samples_num = 10\n",
    "\n",
    "# Tamaño de las submuestras\n",
    "sample_size = int(len(clientes)/samples_num)\n",
    "\n",
    "# Lista de Dataframes\n",
    "df_list = []\n",
    "output_list = []\n",
    "tiempo = []\n",
    "\n",
    "porc = 1.05\n",
    "\n",
    "print(\"Clientes totales del DataFrame:\",len(df.codclavecic.unique()),\"\\n\")\n",
    "\n",
    "# generar las submuestras sin repetir elementos\n",
    "for i in range(1,samples_num+1):\n",
    "    if i<samples_num: \n",
    "        clientes_sample = random.sample(clientes, sample_size)\n",
    "        df_sample = df[df.codclavecic.isin(clientes_sample)]\n",
    "        df_sample[\"sample_num\"] = i \n",
    "        df = df.drop(df_sample.index)\n",
    "\n",
    "        print(\"Clientes del DataFrame del grupo\",i,\":\",len(df_sample.codclavecic.unique()))\n",
    "        print(\"Clientes que quedan en el DataFrame:\", len(df.codclavecic.unique()))\n",
    "       \n",
    "    \n",
    "        df_list.append(df_sample)\n",
    "        clientes = clientes - set(clientes_sample)\n",
    "\n",
    "        start_time = datetime.now() \n",
    "\n",
    "        output_df = opt_port(df_sample,porc)\n",
    "        output_list.append(output_df)\n",
    "        \n",
    "        time_elapsed = datetime.now() - start_time  \n",
    "        tiempo.append(time_elapsed)\n",
    "        print('Time elapsed (hh:mm:ss.ms) {time_elapsed}, grupo:{grupo}'.format(time_elapsed=time_elapsed, grupo=i),\"\\n\")\n",
    "        \n",
    "    else:\n",
    "        df_sample = df.copy()\n",
    "        df_sample[\"sample_num\"] = i    \n",
    "        df_list.append(df_sample)\n",
    "        \n",
    "        print(\"Clientes del último sample:\",len(df_sample.codclavecic.unique()))\n",
    "        \n",
    "        start_time = datetime.now() \n",
    "       \n",
    "        output_df = opt_port(df_sample,porc)\n",
    "        output_list.append(output_df)\n",
    "\n",
    "        time_elapsed = datetime.now() - start_time  \n",
    "        tiempo.append(time_elapsed)\n",
    "        print('Time elapsed (hh:mm:ss.ms) {time_elapsed}, grupo:{grupo}'.format(time_elapsed=time_elapsed, grupo=i),\"\\n\")\n",
    "        \n",
    "      \n",
    "df_tot = pd.concat(df_list)   \n",
    "df_tot_opt = pd.concat(output_list)"
   ]
  },
  {
   "cell_type": "code",
   "execution_count": 5,
   "metadata": {},
   "outputs": [
    {
     "data": {
      "text/plain": [
       "(259177, 9)"
      ]
     },
     "execution_count": 5,
     "metadata": {},
     "output_type": "execute_result"
    }
   ],
   "source": [
    "df_tot.shape"
   ]
  },
  {
   "cell_type": "code",
   "execution_count": 6,
   "metadata": {},
   "outputs": [],
   "source": [
    "df_tot_opt.to_csv(full_filename_output_5,index=False)"
   ]
  },
  {
   "cell_type": "code",
   "execution_count": 7,
   "metadata": {},
   "outputs": [],
   "source": [
    "df_tot_opt = pd.read_csv(full_filename_output_5)\n",
    "\n",
    "#Salida del WTP Individual Escenarios\n",
    "df_wtp_esc = pd.read_csv(full_filename_input)\n",
    "\n",
    "#Salida de la Optimización del Portafolio tomando los leads por grupo\n",
    "df_opt_port_group = df_tot_opt[df_tot_opt.binario==1][['idc','escenario']].rename(columns={'idc':'codclavecic'})\n",
    "\n",
    "#Se le pega la TEA Opt por grupo de acuerdo al escenario\n",
    "df_tea_opt_port_by_group = pd.merge(df_opt_port_group, df_wtp_esc[['codclavecic','escenario','tea', 'cluster','tir']], on=['codclavecic','escenario'], how='left')\n",
    "\n",
    "df_tea_opt_port_by_group.to_csv(full_filename_output_5_final, index=False)"
   ]
  },
  {
   "cell_type": "code",
   "execution_count": 8,
   "metadata": {},
   "outputs": [
    {
     "data": {
      "text/plain": [
       "(18579, 5)"
      ]
     },
     "execution_count": 8,
     "metadata": {},
     "output_type": "execute_result"
    }
   ],
   "source": [
    "df_tea_opt_port_by_group.shape"
   ]
  },
  {
   "cell_type": "code",
   "execution_count": 14,
   "metadata": {},
   "outputs": [
    {
     "name": "stdout",
     "output_type": "stream",
     "text": [
      "Clientes totales del DataFrame: 18579 \n",
      "\n",
      "Clientes del DataFrame del grupo 1 : 1857\n",
      "Clientes que quedan en el DataFrame: 16722\n",
      "Optimal\n",
      "137064.396979098\n",
      "Time elapsed (hh:mm:ss.ms) 0:00:27.943870, grupo:1 \n",
      "\n",
      "Clientes del DataFrame del grupo 2 : 1857\n",
      "Clientes que quedan en el DataFrame: 14865\n",
      "Optimal\n",
      "133502.8731850735\n",
      "Time elapsed (hh:mm:ss.ms) 0:00:28.597663, grupo:2 \n",
      "\n",
      "Clientes del DataFrame del grupo 3 : 1857\n",
      "Clientes que quedan en el DataFrame: 13008\n",
      "Optimal\n",
      "146382.3465535692\n",
      "Time elapsed (hh:mm:ss.ms) 0:00:14.047463, grupo:3 \n",
      "\n",
      "Clientes del DataFrame del grupo 4 : 1857\n",
      "Clientes que quedan en el DataFrame: 11151\n",
      "Optimal\n",
      "143269.92845842056\n",
      "Time elapsed (hh:mm:ss.ms) 0:00:19.788370, grupo:4 \n",
      "\n",
      "Clientes del DataFrame del grupo 5 : 1857\n",
      "Clientes que quedan en el DataFrame: 9294\n",
      "Optimal\n",
      "128798.93850335418\n",
      "Time elapsed (hh:mm:ss.ms) 0:00:09.821486, grupo:5 \n",
      "\n",
      "Clientes del DataFrame del grupo 6 : 1857\n",
      "Clientes que quedan en el DataFrame: 7437\n",
      "Optimal\n",
      "146767.73621654997\n",
      "Time elapsed (hh:mm:ss.ms) 0:00:26.087441, grupo:6 \n",
      "\n",
      "Clientes del DataFrame del grupo 7 : 1857\n",
      "Clientes que quedan en el DataFrame: 5580\n",
      "Optimal\n",
      "135371.9569290795\n",
      "Time elapsed (hh:mm:ss.ms) 0:00:08.422558, grupo:7 \n",
      "\n",
      "Clientes del DataFrame del grupo 8 : 1857\n",
      "Clientes que quedan en el DataFrame: 3723\n",
      "Optimal\n",
      "125935.21971351928\n",
      "Time elapsed (hh:mm:ss.ms) 0:00:14.908116, grupo:8 \n",
      "\n",
      "Clientes del DataFrame del grupo 9 : 1857\n",
      "Clientes que quedan en el DataFrame: 1866\n",
      "Optimal\n",
      "136204.64566202534\n",
      "Time elapsed (hh:mm:ss.ms) 0:00:21.345157, grupo:9 \n",
      "\n",
      "Clientes del último sample: 1866\n",
      "Optimal\n",
      "144907.6917665175\n",
      "Time elapsed (hh:mm:ss.ms) 0:00:16.824441, grupo:10 \n",
      "\n"
     ]
    }
   ],
   "source": [
    "# Load DataFrame\n",
    "df = pd.read_csv(full_filename_input)\n",
    "\n",
    "# Lista de Clientes\n",
    "clientes = set(df['codclavecic'])\n",
    "\n",
    "# Número de samples que deseas generar\n",
    "samples_num = 10\n",
    "\n",
    "# Tamaño de las submuestras\n",
    "sample_size = int(len(clientes)/samples_num)\n",
    "\n",
    "# Lista de Dataframes\n",
    "df_list = []\n",
    "output_list = []\n",
    "\n",
    "porc = 1.061\n",
    "\n",
    "print(\"Clientes totales del DataFrame:\",len(df.codclavecic.unique()),\"\\n\")\n",
    "\n",
    "# generar las submuestras sin repetir elementos\n",
    "for i in range(1,samples_num+1):\n",
    "    if i<samples_num:\n",
    "        clientes_sample = random.sample(clientes, sample_size)\n",
    "        df_sample = df[df.codclavecic.isin(clientes_sample)]\n",
    "        df_sample[\"sample_num\"] = i \n",
    "        df = df.drop(df_sample.index)\n",
    "\n",
    "        print(\"Clientes del DataFrame del grupo\",i,\":\",len(df_sample.codclavecic.unique()))\n",
    "        print(\"Clientes que quedan en el DataFrame:\", len(df.codclavecic.unique()))\n",
    "       \n",
    "    \n",
    "        df_list.append(df_sample)\n",
    "        clientes = clientes - set(clientes_sample)\n",
    "\n",
    "        start_time = datetime.now() \n",
    "\n",
    "        output_df = opt_port(df_sample,porc)\n",
    "        output_list.append(output_df)\n",
    "\n",
    "        time_elapsed = datetime.now() - start_time  \n",
    "        print('Time elapsed (hh:mm:ss.ms) {time_elapsed}, grupo:{grupo}'.format(time_elapsed=time_elapsed, grupo=i),\"\\n\")\n",
    "        \n",
    "    else:\n",
    "        df_sample = df.copy()\n",
    "        df_sample[\"sample_num\"] = i    \n",
    "        df_list.append(df_sample)\n",
    "        \n",
    "        print(\"Clientes del último sample:\",len(df_sample.codclavecic.unique()))\n",
    "        \n",
    "        start_time = datetime.now() \n",
    "       \n",
    "        output_df = opt_port(df_sample,porc)\n",
    "        output_list.append(output_df)\n",
    "\n",
    "        time_elapsed = datetime.now() - start_time  \n",
    "        print('Time elapsed (hh:mm:ss.ms) {time_elapsed}, grupo:{grupo}'.format(time_elapsed=time_elapsed, grupo=i),\"\\n\")\n",
    "        \n",
    "      \n",
    "df_tot_10 = pd.concat(df_list)   \n",
    "df_tot_opt_10 = pd.concat(output_list) "
   ]
  },
  {
   "cell_type": "code",
   "execution_count": 15,
   "metadata": {},
   "outputs": [],
   "source": [
    "df_tot_opt_10.to_csv(full_filename_output_10,index=False)"
   ]
  },
  {
   "cell_type": "code",
   "execution_count": 16,
   "metadata": {},
   "outputs": [
    {
     "data": {
      "text/plain": [
       "(259177, 4)"
      ]
     },
     "execution_count": 16,
     "metadata": {},
     "output_type": "execute_result"
    }
   ],
   "source": [
    "df_tot_opt_10.shape"
   ]
  },
  {
   "cell_type": "code",
   "execution_count": 17,
   "metadata": {},
   "outputs": [],
   "source": [
    "df_tot_opt_10 = pd.read_csv(full_filename_output_10)\n",
    "\n",
    "#Salida del WTP Individual Escenarios\n",
    "df_wtp_esc = pd.read_csv(full_filename_input)\n",
    "\n",
    "#Salida de la Optimización del Portafolio tomando los leads por grupo\n",
    "df_opt_port_group = df_tot_opt_10[df_tot_opt_10.binario==1][['idc','escenario']].rename(columns={'idc':'codclavecic'})\n",
    "\n",
    "#Se le pega la TEA Opt por grupo de acuerdo al escenario\n",
    "df_tea_opt_port_by_group = pd.merge(df_opt_port_group, df_wtp_esc[['codclavecic','escenario','tea', 'cluster','tir']], on=['codclavecic','escenario'], how='left')\n",
    "\n",
    "df_tea_opt_port_by_group.to_csv(full_filename_output_10_final, index=False)"
   ]
  },
  {
   "cell_type": "code",
   "execution_count": 18,
   "metadata": {},
   "outputs": [
    {
     "data": {
      "text/plain": [
       "(18579, 5)"
      ]
     },
     "execution_count": 18,
     "metadata": {},
     "output_type": "execute_result"
    }
   ],
   "source": [
    "df_tea_opt_port_by_group.shape"
   ]
  },
  {
   "cell_type": "code",
   "execution_count": null,
   "metadata": {},
   "outputs": [],
   "source": []
  },
  {
   "cell_type": "code",
   "execution_count": null,
   "metadata": {},
   "outputs": [],
   "source": []
  }
 ],
 "metadata": {
  "kernelspec": {
   "display_name": "venv_pyme",
   "language": "python",
   "name": "python3"
  },
  "language_info": {
   "codemirror_mode": {
    "name": "ipython",
    "version": 3
   },
   "file_extension": ".py",
   "mimetype": "text/x-python",
   "name": "python",
   "nbconvert_exporter": "python",
   "pygments_lexer": "ipython3",
   "version": "3.9.13"
  },
  "orig_nbformat": 4,
  "vscode": {
   "interpreter": {
    "hash": "597a4150a6520364bf78df29c2867488b73d93703f953104d734764c02b4978f"
   }
  }
 },
 "nbformat": 4,
 "nbformat_minor": 2
}
